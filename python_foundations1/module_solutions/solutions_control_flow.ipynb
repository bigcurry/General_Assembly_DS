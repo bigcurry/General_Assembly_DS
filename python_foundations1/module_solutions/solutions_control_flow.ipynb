{
 "cells": [
  {
   "cell_type": "markdown",
   "metadata": {
    "slideshow": {
     "slide_type": "slide"
    },
    "toc-hr-collapsed": false
   },
   "source": [
    "<img src=\"http://imgur.com/1ZcRyrc.png\" style=\"float: left; margin: 20px; height: 55px\">\n",
    " \n",
    "# Control Flow\n",
    " \n",
    "_Authors: Kiefer Katovich (San Francisco), Dave Yerrington (San Francisco), Joseph Nelson (Washington, D.C.), Sam Stack (Washington, D.C.)_"
   ]
  },
  {
   "cell_type": "markdown",
   "metadata": {
    "toc-hr-collapsed": false
   },
   "source": [
    "## Conditionals"
   ]
  },
  {
   "cell_type": "markdown",
   "metadata": {
    "slideshow": {
     "slide_type": "slide"
    }
   },
   "source": [
    "### `if` Statement\n",
    "\n",
    "An `if` statement allows us to run a code block only if some condition is met."
   ]
  },
  {
   "cell_type": "markdown",
   "metadata": {},
   "source": [
    "*Example:*"
   ]
  },
  {
   "cell_type": "code",
   "execution_count": 4,
   "metadata": {
    "tags": [
     "scrub"
    ]
   },
   "outputs": [
    {
     "name": "stdout",
     "output_type": "stream",
     "text": [
      "a is 1\n",
      "This line runs no matter what\n"
     ]
    }
   ],
   "source": [
    "a = 1\n",
    "\n",
    "if a == 1:\n",
    "    print(\"a is 1\")\n",
    "if a == 2:\n",
    "    print(\"a is 2\")\n",
    "\n",
    "print(\"This line runs no matter what\")"
   ]
  },
  {
   "cell_type": "markdown",
   "metadata": {
    "slideshow": {
     "slide_type": "slide"
    }
   },
   "source": [
    "`if` syntax:\n",
    "\n",
    "```\n",
    "if <expression>:\n",
    "    <one or more indented lines>\n",
    "```\n",
    "\n",
    "`expression` is cast to Boolean (if necessary) so that it evaluates to either `True` or `False`. If it evaluates to `True`, the code block is run; otherwise, it is skipped."
   ]
  },
  {
   "cell_type": "markdown",
   "metadata": {},
   "source": [
    "Python is different from most programming languages in that it uses indentation to determine what code falls within a particular construct such as an `if` block."
   ]
  },
  {
   "cell_type": "markdown",
   "metadata": {},
   "source": [
    "### `if` ... `else` Blocks\n",
    "\n",
    "In many cases, you may want to run some code if the expression evaluates to `True` and some other code if it evaluates to `False`. This is done using `else`. Note how it is at the same indentation level as the `if` statement, followed by a colon, followed by a code block."
   ]
  },
  {
   "cell_type": "markdown",
   "metadata": {},
   "source": [
    "*Example:*"
   ]
  },
  {
   "cell_type": "code",
   "execution_count": 5,
   "metadata": {
    "tags": [
     "scrub"
    ]
   },
   "outputs": [
    {
     "name": "stdout",
     "output_type": "stream",
     "text": [
      "My number is less than 30\n",
      "This line runs no matter what.\n"
     ]
    }
   ],
   "source": [
    "my_num = 20\n",
    "\n",
    "if my_num < 30:\n",
    "    print(\"My number is less than 30\")\n",
    "else:\n",
    "    print(\"My number is at least 30\")\n",
    "\n",
    "print(\"This line runs no matter what.\")"
   ]
  },
  {
   "cell_type": "markdown",
   "metadata": {},
   "source": [
    "**Exercise**\n",
    "\n",
    "*Time:* 2 mins\\\n",
    "*Format:* Individual\\\n",
    "*Post answers:* Yes\n",
    "\n",
    "- Create your own string called `test_string`, then modify the code here to create an `if... else` statement for whether or not the first character in `test_string` is a lowercase `a`."
   ]
  },
  {
   "cell_type": "code",
   "execution_count": 6,
   "metadata": {},
   "outputs": [
    {
     "name": "stdout",
     "output_type": "stream",
     "text": [
      "Begins with a\n"
     ]
    }
   ],
   "source": [
    "test_string = \"\"  # Fill in with your choice of string.\n",
    "\n",
    "# Replace `True` with an expression that checks whether the first character in test_string is a lowercase a.\n",
    "if True:\n",
    "    print(\"Begins with a\")\n",
    "else:\n",
    "    print(\"Does not begin with a\")"
   ]
  },
  {
   "cell_type": "code",
   "execution_count": 7,
   "metadata": {
    "tags": [
     "scrub"
    ]
   },
   "outputs": [
    {
     "name": "stdout",
     "output_type": "stream",
     "text": [
      "Begins with a\n"
     ]
    }
   ],
   "source": [
    "test_string = \"abracadabra\"\n",
    "\n",
    "if test_string[0] == \"a\":\n",
    "    print(\"Begins with a\")\n",
    "else:\n",
    "    print(\"Does not begin with a\")"
   ]
  },
  {
   "cell_type": "markdown",
   "metadata": {},
   "source": [
    "- **BONUS:** Handle both capital and lowercase 'a'."
   ]
  },
  {
   "cell_type": "code",
   "execution_count": 8,
   "metadata": {
    "tags": [
     "scrub"
    ]
   },
   "outputs": [
    {
     "name": "stdout",
     "output_type": "stream",
     "text": [
      "Does not begin with a\n"
     ]
    }
   ],
   "source": [
    "test_string = \"xyz\"\n",
    "\n",
    "if test_string[0] == \"a\" or test_string[0] == \"A\":\n",
    "    print(\"Begins with a\")\n",
    "else:\n",
    "    print(\"Does not begin with a\")"
   ]
  },
  {
   "cell_type": "markdown",
   "metadata": {},
   "source": [
    "- **BONUS:** Do it again using the `.lower()` and `.startswith()` string methods."
   ]
  },
  {
   "cell_type": "code",
   "execution_count": 9,
   "metadata": {},
   "outputs": [
    {
     "data": {
      "text/plain": [
       "'abracadabra'"
      ]
     },
     "execution_count": 9,
     "metadata": {},
     "output_type": "execute_result"
    }
   ],
   "source": [
    "# .lower() example\n",
    "\"ABRACADABRA\".lower()"
   ]
  },
  {
   "cell_type": "code",
   "execution_count": 10,
   "metadata": {},
   "outputs": [
    {
     "name": "stdout",
     "output_type": "stream",
     "text": [
      "Help on built-in function lower:\n",
      "\n",
      "lower() method of builtins.str instance\n",
      "    Return a copy of the string converted to lowercase.\n",
      "\n"
     ]
    }
   ],
   "source": [
    "# .lower() documentation\n",
    "help(\"ABRACADABRA\".lower)"
   ]
  },
  {
   "cell_type": "code",
   "execution_count": 11,
   "metadata": {},
   "outputs": [
    {
     "data": {
      "text/plain": [
       "True"
      ]
     },
     "execution_count": 11,
     "metadata": {},
     "output_type": "execute_result"
    }
   ],
   "source": [
    "# .startswith() example\n",
    "\"ABRACADABRA\".startswith(\"ABR\")"
   ]
  },
  {
   "cell_type": "code",
   "execution_count": 12,
   "metadata": {},
   "outputs": [
    {
     "name": "stdout",
     "output_type": "stream",
     "text": [
      "Help on built-in function startswith:\n",
      "\n",
      "startswith(...) method of builtins.str instance\n",
      "    S.startswith(prefix[, start[, end]]) -> bool\n",
      "    \n",
      "    Return True if S starts with the specified prefix, False otherwise.\n",
      "    With optional start, test S beginning at that position.\n",
      "    With optional end, stop comparing S at that position.\n",
      "    prefix can also be a tuple of strings to try.\n",
      "\n"
     ]
    }
   ],
   "source": [
    "# .startswith() documentation\n",
    "help(\"ABRACADABRA\".startswith)"
   ]
  },
  {
   "cell_type": "code",
   "execution_count": 13,
   "metadata": {
    "tags": [
     "scrub"
    ]
   },
   "outputs": [
    {
     "name": "stdout",
     "output_type": "stream",
     "text": [
      "Begins with a\n"
     ]
    }
   ],
   "source": [
    "test_string = \"abracadabra\"  # Fill in with your choice of string.\n",
    "\n",
    "if test_string.lower().startswith(\"a\"):\n",
    "    print(\"Begins with a\")\n",
    "else:\n",
    "    print(\"Does not begin with a\")"
   ]
  },
  {
   "cell_type": "markdown",
   "metadata": {},
   "source": [
    "$\\blacksquare$"
   ]
  },
  {
   "cell_type": "markdown",
   "metadata": {},
   "source": [
    "### `if` ... `elif` ... `else` Blocks\n",
    "\n",
    "Sometimes, you might want to run one specific code block out of several. For example, perhaps we provide the user with three choices and want something different to happen with each one.\n",
    "\n",
    "`elif` stands for `else if`. It belongs on a line between the initial `if` statement and an (optional) `else`. "
   ]
  },
  {
   "cell_type": "markdown",
   "metadata": {},
   "source": [
    "*Example:*"
   ]
  },
  {
   "cell_type": "code",
   "execution_count": 14,
   "metadata": {
    "tags": [
     "scrub"
    ]
   },
   "outputs": [
    {
     "name": "stdout",
     "output_type": "stream",
     "text": [
      "Your health is average.\n",
      "These two lines are not indented, so they are always run next.\n"
     ]
    }
   ],
   "source": [
    "health = 55\n",
    "\n",
    "if health > 70:\n",
    "    print(\"You are in great health!\")\n",
    "elif health > 40:\n",
    "    print(\"Your health is average.\")\n",
    "else:\n",
    "    print(\"Your health is low.\")\n",
    "\n",
    "print(\"These two lines are not indented, so they are always run next.\")"
   ]
  },
  {
   "cell_type": "markdown",
   "metadata": {
    "slideshow": {
     "slide_type": "slide"
    }
   },
   "source": [
    "This code works by evaluating each condition in order. If a condition evaluates to `True`, the rest are skipped."
   ]
  },
  {
   "cell_type": "markdown",
   "metadata": {},
   "source": [
    "![](../assets/images/if-flow.png)"
   ]
  },
  {
   "cell_type": "markdown",
   "metadata": {},
   "source": [
    "**Exercise**\n",
    "\n",
    "*Time:* 6 mins\\\n",
    "*Format:* Pairs\\\n",
    "*Post answers:* Yes"
   ]
  },
  {
   "cell_type": "markdown",
   "metadata": {},
   "source": [
    "- Why does the code above say `elif health > 40:` rather than `elif health > 40 and health <= 70:`?"
   ]
  },
  {
   "cell_type": "markdown",
   "metadata": {
    "tags": [
     "scrub"
    ]
   },
   "source": [
    "\n",
    "Adding `and health <= 70` is unnecessary; because we used `elif` rather than `if`, this condition will be checked only if `health > 70` evaluates to `False`, which implies that `health <= 70` would evaluate to `True`."
   ]
  },
  {
   "cell_type": "markdown",
   "metadata": {},
   "source": [
    "- What would happen if we had `health = 80` and the line `elif health > 40` where changed to `if health > 40`? How is `elif` different from `if`?"
   ]
  },
  {
   "cell_type": "markdown",
   "metadata": {
    "tags": [
     "scrub"
    ]
   },
   "source": [
    "\n",
    "In that case, both 'You are in great health!' and 'Your health is average.' would print. `elif` is different from `if` in that an `elif` block is skipped if the `if` condition evaluates to `True`."
   ]
  },
  {
   "cell_type": "markdown",
   "metadata": {
    "slideshow": {
     "slide_type": "slide"
    }
   },
   "source": [
    "- Print out the following recommendations based on the weather conditions. Test your code for different values of the values `temp` and `rain`:\n",
    "    - `temp` is higher than 60 degrees and it is raining: Bring an umbrella.\n",
    "    - `temp` is lower than or equal to 60 degrees and it is raining: Bring an umbrella and a jacket.\n",
    "    - `temp` is higher than 60 degrees and it is not raining: Wear a T-shirt.\n",
    "    - `temp` is lower than or equal to 60 degrees and it is not raining: Bring a jacket."
   ]
  },
  {
   "cell_type": "code",
   "execution_count": 63,
   "metadata": {
    "slideshow": {
     "slide_type": "slide"
    }
   },
   "outputs": [],
   "source": [
    "temp = 70\n",
    "rain = True"
   ]
  },
  {
   "cell_type": "code",
   "execution_count": 65,
   "metadata": {
    "slideshow": {
     "slide_type": "slide"
    },
    "tags": [
     "scrub"
    ]
   },
   "outputs": [
    {
     "name": "stdout",
     "output_type": "stream",
     "text": [
      "bring an umbrella\n"
     ]
    }
   ],
   "source": [
    "if temp > 60:\n",
    "    if rain:\n",
    "        print(\"bring an umbrella\")\n",
    "    else:\n",
    "        print(\"wear a t-shirt\")\n",
    "else:\n",
    "    if rain:\n",
    "        print(\"bring an umbrella and a jacket\")\n",
    "    else:\n",
    "        print(\"bring a jacket\")"
   ]
  },
  {
   "cell_type": "markdown",
   "metadata": {},
   "source": [
    "- **BONUS:** If you used `and` in the coding exercise, try using nested `if` statements instead, or vice-versa."
   ]
  },
  {
   "cell_type": "code",
   "execution_count": 67,
   "metadata": {
    "tags": [
     "scrub"
    ]
   },
   "outputs": [
    {
     "name": "stdout",
     "output_type": "stream",
     "text": [
      "bring an umbrella\n"
     ]
    }
   ],
   "source": [
    "if temp > 60 and rain:\n",
    "    print(\"bring an umbrella\")\n",
    "elif temp > 60:\n",
    "    print(\"wear a t-shirt\")\n",
    "elif temp <= 60 and rain:\n",
    "    print(\"bring an umbrella and a jacket\")\n",
    "else:\n",
    "    print(\"bring a jacket\")"
   ]
  },
  {
   "cell_type": "markdown",
   "metadata": {},
   "source": [
    "$\\blacksquare$"
   ]
  },
  {
   "cell_type": "markdown",
   "metadata": {
    "slideshow": {
     "slide_type": "slide"
    },
    "toc-hr-collapsed": true,
    "toc-nb-collapsed": true
   },
   "source": [
    "## `for` Loops\n",
    "\n",
    "The `for` loop allows you to perform a task repeatedly on every element within an object, such as every name in a list."
   ]
  },
  {
   "cell_type": "markdown",
   "metadata": {},
   "source": [
    "*Example:*"
   ]
  },
  {
   "cell_type": "code",
   "execution_count": 18,
   "metadata": {
    "tags": [
     "scrub"
    ]
   },
   "outputs": [
    {
     "name": "stdout",
     "output_type": "stream",
     "text": [
      "Rebecca is awesome!\n",
      "Paula is awesome!\n",
      "Heather is awesome!\n"
     ]
    }
   ],
   "source": [
    "names = [\"Rebecca\", \"Paula\", \"Heather\"]\n",
    "\n",
    "for name in names:\n",
    "    print(f\"{name} is awesome!\")"
   ]
  },
  {
   "cell_type": "markdown",
   "metadata": {
    "slideshow": {
     "slide_type": "slide"
    }
   },
   "source": [
    "We can also combine `if... else` statements and `for` loops:"
   ]
  },
  {
   "cell_type": "code",
   "execution_count": 19,
   "metadata": {
    "tags": [
     "scrub"
    ]
   },
   "outputs": [
    {
     "name": "stdout",
     "output_type": "stream",
     "text": [
      "Rebecca is OK\n",
      "Paula is REALLY AWESOME!!!\n",
      "Heather is OK\n"
     ]
    }
   ],
   "source": [
    "for name in names:\n",
    "    if name == \"Paula\":\n",
    "        print(f\"{name} is REALLY AWESOME!!!\")\n",
    "    else:\n",
    "        print(f\"{name} is OK\")"
   ]
  },
  {
   "cell_type": "markdown",
   "metadata": {},
   "source": [
    "We can also loop over instances of other container types, including strings."
   ]
  },
  {
   "cell_type": "code",
   "execution_count": 20,
   "metadata": {
    "tags": [
     "scrub"
    ]
   },
   "outputs": [
    {
     "name": "stdout",
     "output_type": "stream",
     "text": [
      "P\n",
      "a\n",
      "u\n",
      "l\n",
      "a\n"
     ]
    }
   ],
   "source": [
    "for character in \"Paula\":\n",
    "    print(character)"
   ]
  },
  {
   "cell_type": "markdown",
   "metadata": {},
   "source": [
    "**Exercise**\n",
    "\n",
    "*Time:* 15 mins\\\n",
    "*Format:* Pairs\\\n",
    "*Post answers:* Yes\n",
    "\n",
    "*Tip:* Build up your code one step at a time, printing the result at each step, rather than trying to solve each problem in one pass."
   ]
  },
  {
   "cell_type": "markdown",
   "metadata": {
    "slideshow": {
     "slide_type": "slide"
    }
   },
   "source": [
    "- Write a `for` loop that iterates from number 1 to number 15 and prints the number on each iteration, like so:\n",
    "\n",
    "```\n",
    "Iteration: 1\n",
    "Iteration: 2\n",
    "Iteration: 3\n",
    "Iteration: 4\n",
    "Iteration: 5\n",
    "Iteration: 6\n",
    "Iteration: 7\n",
    "Iteration: 8\n",
    "Iteration: 9\n",
    "Iteration: 10\n",
    "Iteration: 11\n",
    "Iteration: 12\n",
    "Iteration: 13\n",
    "Iteration: 14\n",
    "Iteration: 15\n",
    "```"
   ]
  },
  {
   "cell_type": "code",
   "execution_count": 21,
   "metadata": {
    "tags": [
     "scrub"
    ]
   },
   "outputs": [],
   "source": [
    "# Starter code:\n",
    "for i in range(1, 16):\n",
    "    pass  # replace this line with your own code"
   ]
  },
  {
   "cell_type": "code",
   "execution_count": 22,
   "metadata": {
    "tags": [
     "scrub"
    ]
   },
   "outputs": [
    {
     "name": "stdout",
     "output_type": "stream",
     "text": [
      "Iteration: 1\n",
      "Iteration: 2\n",
      "Iteration: 3\n",
      "Iteration: 4\n",
      "Iteration: 5\n",
      "Iteration: 6\n",
      "Iteration: 7\n",
      "Iteration: 8\n",
      "Iteration: 9\n",
      "Iteration: 10\n",
      "Iteration: 11\n",
      "Iteration: 12\n",
      "Iteration: 13\n",
      "Iteration: 14\n",
      "Iteration: 15\n"
     ]
    }
   ],
   "source": [
    "for i in range(1, 16):\n",
    "    print(\"Iteration:\", i)"
   ]
  },
  {
   "cell_type": "markdown",
   "metadata": {
    "slideshow": {
     "slide_type": "slide"
    }
   },
   "source": [
    "- Iterate through the following list of animals, and print each one in all caps."
   ]
  },
  {
   "cell_type": "markdown",
   "metadata": {},
   "source": [
    "*Hint:* Use the `.upper()` string method."
   ]
  },
  {
   "cell_type": "code",
   "execution_count": 23,
   "metadata": {
    "slideshow": {
     "slide_type": "slide"
    }
   },
   "outputs": [],
   "source": [
    "animals = [\"duck\", \"rat\", \"boar\", \"slug\", \"mammoth\", \"gazelle\"]"
   ]
  },
  {
   "cell_type": "code",
   "execution_count": 24,
   "metadata": {
    "tags": [
     "scrub"
    ]
   },
   "outputs": [
    {
     "name": "stdout",
     "output_type": "stream",
     "text": [
      "DUCK\n",
      "RAT\n",
      "BOAR\n",
      "SLUG\n",
      "MAMMOTH\n",
      "GAZELLE\n"
     ]
    }
   ],
   "source": [
    "for animal in animals:\n",
    "    print(animal.upper())"
   ]
  },
  {
   "cell_type": "markdown",
   "metadata": {
    "slideshow": {
     "slide_type": "slide"
    }
   },
   "source": [
    "- Create a new list consisting of the items in `animals`, but with the first letter of each animal's name capitalized.\n",
    "\n",
    "*Hints*:\n",
    "\n",
    "- Initialize an empty list, then append to it.\n",
    "- Use the `.capitalize()` string method."
   ]
  },
  {
   "cell_type": "code",
   "execution_count": 25,
   "metadata": {
    "slideshow": {
     "slide_type": "slide"
    },
    "tags": [
     "scrub"
    ]
   },
   "outputs": [
    {
     "name": "stdout",
     "output_type": "stream",
     "text": [
      "['Duck', 'Rat', 'Boar', 'Slug', 'Mammoth', 'Gazelle']\n"
     ]
    }
   ],
   "source": [
    "cap_animals = []\n",
    "for animal in animals:\n",
    "    cap_animal = animal.capitalize()\n",
    "    cap_animals.append(cap_animal)\n",
    "print(cap_animals)"
   ]
  },
  {
   "cell_type": "markdown",
   "metadata": {
    "slideshow": {
     "slide_type": "slide"
    }
   },
   "source": [
    "- Iterate from 1 to 15, printing whether the number is odd or even, like so:\n",
    "\n",
    "1 odd\\\n",
    "2 even\\\n",
    "3 odd\\\n",
    "4 even\\\n",
    "5 odd\\\n",
    "6 even\\\n",
    "7 odd\\\n",
    "8 even\\\n",
    "9 odd\\\n",
    "10 even\\\n",
    "11 odd\\\n",
    "12 even\\\n",
    "13 odd\\\n",
    "14 even\\\n",
    "15 odd"
   ]
  },
  {
   "cell_type": "code",
   "execution_count": 26,
   "metadata": {
    "slideshow": {
     "slide_type": "slide"
    },
    "tags": [
     "scrub"
    ]
   },
   "outputs": [
    {
     "name": "stdout",
     "output_type": "stream",
     "text": [
      "1 odd\n",
      "2 even\n",
      "3 odd\n",
      "4 even\n",
      "5 odd\n",
      "6 even\n",
      "7 odd\n",
      "8 even\n",
      "9 odd\n",
      "10 even\n",
      "11 odd\n",
      "12 even\n",
      "13 odd\n",
      "14 even\n",
      "15 odd\n"
     ]
    }
   ],
   "source": [
    "for i in range(1, 16):\n",
    "    if i % 2 == 0:\n",
    "        print(i, \"even\")\n",
    "    else:\n",
    "        print(i, \"odd\")"
   ]
  },
  {
   "cell_type": "markdown",
   "metadata": {
    "slideshow": {
     "slide_type": "slide"
    }
   },
   "source": [
    "- Iterate through the animals. Print out the animal name and the number of vowels in the name. *Hints*:\n",
    "\n",
    "    - You might create a variable with a name like `vowel_count` that takes the value 0 initially and then increase that variable by one for every vowel. Be sure to start it over at 0 for each new animal!\n",
    "    - You may need to create a string variable that contains all of the vowels for comparison. Use the `in` operator to check whether a letter is in the string. (E.g. `'a' in 'abc'` evaluates to `True`.)\n",
    "    - Make sure you can handle any combination of capital and lowercase letters! The `.lower()` method might be useful."
   ]
  },
  {
   "cell_type": "code",
   "execution_count": 27,
   "metadata": {
    "slideshow": {
     "slide_type": "slide"
    },
    "tags": [
     "scrub"
    ]
   },
   "outputs": [
    {
     "name": "stdout",
     "output_type": "stream",
     "text": [
      "duck 1\n",
      "rat 1\n",
      "boar 2\n",
      "slug 1\n",
      "mammoth 2\n",
      "gazelle 3\n"
     ]
    }
   ],
   "source": [
    "vowels = \"aeiou\"\n",
    "for animal in animals:\n",
    "    vowel_count = 0\n",
    "    for character in animal.lower():\n",
    "        if character in vowels:\n",
    "            vowel_count += 1\n",
    "    print(animal, vowel_count)"
   ]
  },
  {
   "cell_type": "markdown",
   "metadata": {},
   "source": [
    "- **BONUS:** Create a list of tuples where each tuple contains $n$ and $n^2$ for all positive even integers $n$ less than 100."
   ]
  },
  {
   "cell_type": "code",
   "execution_count": 28,
   "metadata": {
    "tags": [
     "scrub"
    ]
   },
   "outputs": [
    {
     "data": {
      "text/plain": [
       "[(2, 4),\n",
       " (4, 16),\n",
       " (6, 36),\n",
       " (8, 64),\n",
       " (10, 100),\n",
       " (12, 144),\n",
       " (14, 196),\n",
       " (16, 256),\n",
       " (18, 324),\n",
       " (20, 400),\n",
       " (22, 484),\n",
       " (24, 576),\n",
       " (26, 676),\n",
       " (28, 784),\n",
       " (30, 900),\n",
       " (32, 1024),\n",
       " (34, 1156),\n",
       " (36, 1296),\n",
       " (38, 1444),\n",
       " (40, 1600),\n",
       " (42, 1764),\n",
       " (44, 1936),\n",
       " (46, 2116),\n",
       " (48, 2304),\n",
       " (50, 2500),\n",
       " (52, 2704),\n",
       " (54, 2916),\n",
       " (56, 3136),\n",
       " (58, 3364),\n",
       " (60, 3600),\n",
       " (62, 3844),\n",
       " (64, 4096),\n",
       " (66, 4356),\n",
       " (68, 4624),\n",
       " (70, 4900),\n",
       " (72, 5184),\n",
       " (74, 5476),\n",
       " (76, 5776),\n",
       " (78, 6084),\n",
       " (80, 6400),\n",
       " (82, 6724),\n",
       " (84, 7056),\n",
       " (86, 7396),\n",
       " (88, 7744),\n",
       " (90, 8100),\n",
       " (92, 8464),\n",
       " (94, 8836),\n",
       " (96, 9216),\n",
       " (98, 9604)]"
      ]
     },
     "execution_count": 28,
     "metadata": {},
     "output_type": "execute_result"
    }
   ],
   "source": [
    "result = []\n",
    "for n in range(2, 100, 2):\n",
    "    result.append((n, n ** 2))\n",
    "\n",
    "result"
   ]
  },
  {
   "cell_type": "markdown",
   "metadata": {},
   "source": [
    "$\\blacksquare$"
   ]
  },
  {
   "cell_type": "markdown",
   "metadata": {
    "toc-hr-collapsed": false
   },
   "source": [
    "## Functions"
   ]
  },
  {
   "cell_type": "markdown",
   "metadata": {},
   "source": [
    "Suppose we want to calculate the price of a \\$4 gallon of milk including 10% sales tax:"
   ]
  },
  {
   "cell_type": "code",
   "execution_count": 29,
   "metadata": {},
   "outputs": [
    {
     "data": {
      "text/plain": [
       "4.4"
      ]
     },
     "execution_count": 29,
     "metadata": {},
     "output_type": "execute_result"
    }
   ],
   "source": [
    "4.00 * (1 + 0.1)"
   ]
  },
  {
   "cell_type": "markdown",
   "metadata": {},
   "source": [
    "Now we want to calculate the price of a \\$15 shirt with tax, but the tax rate for clothes is 5\\% instead of 10\\%:"
   ]
  },
  {
   "cell_type": "code",
   "execution_count": 30,
   "metadata": {},
   "outputs": [
    {
     "data": {
      "text/plain": [
       "15.75"
      ]
     },
     "execution_count": 30,
     "metadata": {},
     "output_type": "execute_result"
    }
   ],
   "source": [
    "15.00 * (1 + 0.05)"
   ]
  },
  {
   "cell_type": "markdown",
   "metadata": {},
   "source": [
    "Tomorrow we might need to calculate the price of some other item, potentially with a third tax rate."
   ]
  },
  {
   "cell_type": "markdown",
   "metadata": {},
   "source": [
    "We need a way to package up the *logic* for calculating a final price from a base price and a tax rate, allowing those inputs to vary. We can do that by creating a **function**. Our function will take a base price and a tax rate as inputs, do some math, and return the function price:"
   ]
  },
  {
   "cell_type": "markdown",
   "metadata": {},
   "source": [
    "![](../assets/images/function.png)"
   ]
  },
  {
   "cell_type": "markdown",
   "metadata": {},
   "source": [
    "Here's what that looks like in Python:"
   ]
  },
  {
   "cell_type": "code",
   "execution_count": 31,
   "metadata": {
    "tags": [
     "scrub"
    ]
   },
   "outputs": [],
   "source": [
    "def calculate_final_price(base_price, tax_rate):\n",
    "    multiplier = 1 + tax_rate\n",
    "    return base_price * multiplier"
   ]
  },
  {
   "cell_type": "markdown",
   "metadata": {},
   "source": [
    "<img src=\"../assets/images/function2.png\" width=800 align=left>"
   ]
  },
  {
   "cell_type": "markdown",
   "metadata": {},
   "source": [
    "We could also reduce the function body to one line:"
   ]
  },
  {
   "cell_type": "code",
   "execution_count": 32,
   "metadata": {
    "tags": [
     "scrub"
    ]
   },
   "outputs": [],
   "source": [
    "def calculate_final_price(base_price, tax_rate):\n",
    "    return base_price * (1 + tax_rate)"
   ]
  },
  {
   "cell_type": "markdown",
   "metadata": {},
   "source": [
    "Here's how we use it:"
   ]
  },
  {
   "cell_type": "code",
   "execution_count": 33,
   "metadata": {
    "tags": [
     "scrub"
    ]
   },
   "outputs": [
    {
     "data": {
      "text/plain": [
       "4.4"
      ]
     },
     "execution_count": 33,
     "metadata": {},
     "output_type": "execute_result"
    }
   ],
   "source": [
    "calculate_final_price(4.00, 0.1)"
   ]
  },
  {
   "cell_type": "markdown",
   "metadata": {},
   "source": [
    "Or we can be more explicit about the which input argument goes with which parameter (generally a good idea):"
   ]
  },
  {
   "cell_type": "code",
   "execution_count": 34,
   "metadata": {
    "tags": [
     "scrub"
    ]
   },
   "outputs": [
    {
     "data": {
      "text/plain": [
       "4.4"
      ]
     },
     "execution_count": 34,
     "metadata": {},
     "output_type": "execute_result"
    }
   ],
   "source": [
    "calculate_final_price(base_price=4.00, tax_rate=0.1)"
   ]
  },
  {
   "cell_type": "markdown",
   "metadata": {},
   "source": [
    "The function call `calculate_final_price(4.00, 0.1)` uses *positional arguments*: the first value `4.00` gets assigned to the first parameter `base_price`, and the second value `0.1` gets assigned to the second parameter `tax_rate`, based on their positions.\n",
    "\n",
    "The function call `calculate_final_price(base_price=4.00, tax_rate=0.1)` uses *keyword arguments*: each argument is explicitly assigned to a specific parameter."
   ]
  },
  {
   "cell_type": "markdown",
   "metadata": {},
   "source": [
    "You can use a combination of positional and keyword arguments, but the keyword arguments have to come last:"
   ]
  },
  {
   "cell_type": "code",
   "execution_count": 35,
   "metadata": {
    "tags": [
     "scrub"
    ]
   },
   "outputs": [
    {
     "data": {
      "text/plain": [
       "15.75"
      ]
     },
     "execution_count": 35,
     "metadata": {},
     "output_type": "execute_result"
    }
   ],
   "source": [
    "calculate_final_price(15.00, tax_rate=0.05)"
   ]
  },
  {
   "cell_type": "markdown",
   "metadata": {},
   "source": [
    "*Uncomment and run the cell below to see what happens when you try to use a position argument after a keyword argument.*"
   ]
  },
  {
   "cell_type": "code",
   "execution_count": 36,
   "metadata": {
    "tags": [
     "scrub"
    ]
   },
   "outputs": [],
   "source": [
    "# calculate_final_price(base_price=15.00, 0.05)"
   ]
  },
  {
   "cell_type": "markdown",
   "metadata": {},
   "source": [
    "The order of keyword arguments does not matter:"
   ]
  },
  {
   "cell_type": "code",
   "execution_count": 37,
   "metadata": {
    "tags": [
     "scrub"
    ]
   },
   "outputs": [
    {
     "data": {
      "text/plain": [
       "15.75"
      ]
     },
     "execution_count": 37,
     "metadata": {},
     "output_type": "execute_result"
    }
   ],
   "source": [
    "calculate_final_price(tax_rate=0.05, base_price=15.00)"
   ]
  },
  {
   "cell_type": "markdown",
   "metadata": {},
   "source": [
    "Writing functions allows us to do two very important things:\n",
    "\n",
    "1. Reuse code so that (1) we don't have to write so much of it in the first place and (2) when we want to change how some piece of functionality works, we have one easy-to-find place to go.\n",
    "1. Make our code easier to read by replacing expressions like `base_price * (1 + tax_rate)` with phrases like \"calculate_final_price\" that convey our intentions more clearly."
   ]
  },
  {
   "cell_type": "markdown",
   "metadata": {},
   "source": [
    "**Exercise**\n",
    "\n",
    "*Time:* 12 mins\\\n",
    "*Format:* Pairs\\\n",
    "*Post answers:* Yes"
   ]
  },
  {
   "cell_type": "markdown",
   "metadata": {},
   "source": [
    "- Write a function `area_square` that takes the length of a side of a square as an argument and returns its area.\n",
    "\n",
    "*Hint*: The area of a square is the length of one of its sides squared (`area = length ** 2` in Python syntax)."
   ]
  },
  {
   "cell_type": "code",
   "execution_count": 38,
   "metadata": {
    "tags": [
     "scrub"
    ]
   },
   "outputs": [],
   "source": [
    "def area_square(length):\n",
    "    return length ** 2"
   ]
  },
  {
   "cell_type": "markdown",
   "metadata": {},
   "source": [
    "- Call `area_square` with a side length of 4 using a positional argument. Make sure the result is correct (16) before you move on."
   ]
  },
  {
   "cell_type": "code",
   "execution_count": 39,
   "metadata": {
    "tags": [
     "scrub"
    ]
   },
   "outputs": [
    {
     "data": {
      "text/plain": [
       "16"
      ]
     },
     "execution_count": 39,
     "metadata": {},
     "output_type": "execute_result"
    }
   ],
   "source": [
    "area_square(4)"
   ]
  },
  {
   "cell_type": "markdown",
   "metadata": {},
   "source": [
    "- Call `area_square` with a side length of 4 using a keyword argument."
   ]
  },
  {
   "cell_type": "code",
   "execution_count": 40,
   "metadata": {
    "tags": [
     "scrub"
    ]
   },
   "outputs": [
    {
     "data": {
      "text/plain": [
       "16"
      ]
     },
     "execution_count": 40,
     "metadata": {},
     "output_type": "execute_result"
    }
   ],
   "source": [
    "area_square(length=4)"
   ]
  },
  {
   "cell_type": "markdown",
   "metadata": {},
   "source": [
    "- Write a function `area_triangle` that takes the base and height of a triangle and returns its area.\n",
    "\n",
    "*Hint*: The area of a triangle is half of the product of its base and its height."
   ]
  },
  {
   "cell_type": "code",
   "execution_count": 41,
   "metadata": {
    "tags": [
     "scrub"
    ]
   },
   "outputs": [],
   "source": [
    "def area_triangle(base, height):\n",
    "    return 1 / 2 * base * height"
   ]
  },
  {
   "cell_type": "markdown",
   "metadata": {},
   "source": [
    "- Call `area_triangle` with base of 3 and height of 6 using positional arguments. Make sure the result is correct (9) before you move on."
   ]
  },
  {
   "cell_type": "code",
   "execution_count": 42,
   "metadata": {
    "tags": [
     "scrub"
    ]
   },
   "outputs": [
    {
     "data": {
      "text/plain": [
       "9.0"
      ]
     },
     "execution_count": 42,
     "metadata": {},
     "output_type": "execute_result"
    }
   ],
   "source": [
    "area_triangle(3, 6)"
   ]
  },
  {
   "cell_type": "markdown",
   "metadata": {},
   "source": [
    "- Call `area_triangle` with base of 3 and height of 6 using keyword arguments."
   ]
  },
  {
   "cell_type": "code",
   "execution_count": 43,
   "metadata": {
    "tags": [
     "scrub"
    ]
   },
   "outputs": [
    {
     "data": {
      "text/plain": [
       "9.0"
      ]
     },
     "execution_count": 43,
     "metadata": {},
     "output_type": "execute_result"
    }
   ],
   "source": [
    "area_triangle(base=3, height=6)"
   ]
  },
  {
   "cell_type": "markdown",
   "metadata": {},
   "source": [
    "- Call `area_triangle` with base of 3 and height of 6 using one positional argument and one keyword argument."
   ]
  },
  {
   "cell_type": "code",
   "execution_count": 44,
   "metadata": {
    "tags": [
     "scrub"
    ]
   },
   "outputs": [
    {
     "data": {
      "text/plain": [
       "9.0"
      ]
     },
     "execution_count": 44,
     "metadata": {},
     "output_type": "execute_result"
    }
   ],
   "source": [
    "area_triangle(3, height=6)"
   ]
  },
  {
   "cell_type": "markdown",
   "metadata": {},
   "source": [
    "- Create a function `count_vowels` that takes a string and returns the number of vowels it contains.\n",
    "\n",
    "*Reminder*: We already wrote code to count the number of vowels in a string! We just need to package it up in a function."
   ]
  },
  {
   "cell_type": "code",
   "execution_count": 45,
   "metadata": {
    "tags": [
     "scrub"
    ]
   },
   "outputs": [],
   "source": [
    "def count_vowels(string):\n",
    "    vowel_count = 0\n",
    "    for character in string.lower():\n",
    "        if character in \"aeiou\":\n",
    "            vowel_count += 1\n",
    "    return vowel_count"
   ]
  },
  {
   "cell_type": "code",
   "execution_count": 46,
   "metadata": {},
   "outputs": [],
   "source": [
    "# Run this cell to test your solution.\n",
    "assert count_vowels(\"hello\") == 2\n",
    "assert count_vowels(\"SPECIALIST\") == 4\n",
    "assert count_vowels(\"Insanely\") == 3"
   ]
  },
  {
   "cell_type": "markdown",
   "metadata": {},
   "source": [
    "- Repeat the following exercise using your function. Notice how using a function makes the code easier to read!\n",
    "\n",
    "> - Iterate through the animals. Print out the animal name and the number of vowels in the name. "
   ]
  },
  {
   "cell_type": "code",
   "execution_count": 47,
   "metadata": {
    "slideshow": {
     "slide_type": "slide"
    }
   },
   "outputs": [],
   "source": [
    "animals = [\"duck\", \"rat\", \"boar\", \"slug\", \"mammoth\", \"gazelle\"]"
   ]
  },
  {
   "cell_type": "code",
   "execution_count": 48,
   "metadata": {
    "tags": [
     "scrub"
    ]
   },
   "outputs": [
    {
     "name": "stdout",
     "output_type": "stream",
     "text": [
      "duck 1\n",
      "rat 1\n",
      "boar 2\n",
      "slug 1\n",
      "mammoth 2\n",
      "gazelle 3\n"
     ]
    }
   ],
   "source": [
    "for animal in animals:\n",
    "    print(animal, count_vowels(animal))"
   ]
  },
  {
   "cell_type": "markdown",
   "metadata": {},
   "source": [
    "$\\blacksquare$"
   ]
  },
  {
   "cell_type": "markdown",
   "metadata": {},
   "source": [
    "### Default Arguments"
   ]
  },
  {
   "cell_type": "markdown",
   "metadata": {},
   "source": [
    "Suppose the vast majority of items we sell have a tax rate of 10%, but very occasionally that tax rate is different. In that case, making `tax_rate` a parameter is a bit of a nuisance because then we have to pass in 0.1 over and over again in the normal cases, but not making it a parameter is not a good option because it wouldn't allow us to handle the atypical cases."
   ]
  },
  {
   "cell_type": "markdown",
   "metadata": {},
   "source": [
    "A good solution to this problem is to give a **default value** for `tax_rate`:"
   ]
  },
  {
   "cell_type": "code",
   "execution_count": 49,
   "metadata": {
    "tags": [
     "scrub"
    ]
   },
   "outputs": [],
   "source": [
    "def calculate_final_price(base_price, tax_rate=0.1):\n",
    "    return base_price * (1 + tax_rate)"
   ]
  },
  {
   "cell_type": "markdown",
   "metadata": {},
   "source": [
    "Now if we don't specify a tax rate, the default value of 0.1 will be used:"
   ]
  },
  {
   "cell_type": "markdown",
   "metadata": {},
   "source": [
    "*Call `calculate_final_price` using default tax rate implicitly.*"
   ]
  },
  {
   "cell_type": "code",
   "execution_count": 50,
   "metadata": {
    "tags": [
     "scrub"
    ]
   },
   "outputs": [
    {
     "data": {
      "text/plain": [
       "4.4"
      ]
     },
     "execution_count": 50,
     "metadata": {},
     "output_type": "execute_result"
    }
   ],
   "source": [
    "calculate_final_price(base_price=4.00)"
   ]
  },
  {
   "cell_type": "markdown",
   "metadata": {},
   "source": [
    "But when we need to override that default value, we can do so:"
   ]
  },
  {
   "cell_type": "code",
   "execution_count": 51,
   "metadata": {
    "tags": [
     "scrub"
    ]
   },
   "outputs": [
    {
     "data": {
      "text/plain": [
       "15.75"
      ]
     },
     "execution_count": 51,
     "metadata": {},
     "output_type": "execute_result"
    }
   ],
   "source": [
    "calculate_final_price(base_price=15.00, tax_rate=0.05)"
   ]
  },
  {
   "cell_type": "markdown",
   "metadata": {},
   "source": [
    "Parameters with default values need to appear at the *end* of the parameter list in the function definition."
   ]
  },
  {
   "cell_type": "markdown",
   "metadata": {},
   "source": [
    "*Uncomment and run the cell below to see the error we get when we give `base_price` but not `tax_rate` a default value.*"
   ]
  },
  {
   "cell_type": "code",
   "execution_count": 52,
   "metadata": {
    "tags": [
     "scrub"
    ]
   },
   "outputs": [],
   "source": [
    "# def calculate_final_price(base_price=10, tax_rate):\n",
    "#     return base_price * (1 + tax_rate)"
   ]
  },
  {
   "cell_type": "markdown",
   "metadata": {},
   "source": [
    "**Exercise**\n",
    "\n",
    "*Time:* 1 min.\\\n",
    "*Format:* Individual\\\n",
    "*Post answers:* Yes"
   ]
  },
  {
   "cell_type": "markdown",
   "metadata": {},
   "source": [
    "- Write a function `power` that takes a number and an exponent and returns the number raised to that exponent. Give it a default exponent value of 2."
   ]
  },
  {
   "cell_type": "code",
   "execution_count": 53,
   "metadata": {
    "tags": [
     "scrub"
    ]
   },
   "outputs": [],
   "source": [
    "def power(num, exp=2):\n",
    "    return num ** exp"
   ]
  },
  {
   "cell_type": "markdown",
   "metadata": {},
   "source": [
    "- Call `power` without specifying the exponent."
   ]
  },
  {
   "cell_type": "code",
   "execution_count": 54,
   "metadata": {
    "tags": [
     "scrub"
    ]
   },
   "outputs": [
    {
     "data": {
      "text/plain": [
       "16"
      ]
     },
     "execution_count": 54,
     "metadata": {},
     "output_type": "execute_result"
    }
   ],
   "source": [
    "power(4)"
   ]
  },
  {
   "cell_type": "markdown",
   "metadata": {},
   "source": [
    "- Call `power` again, this time with a non-default exponent."
   ]
  },
  {
   "cell_type": "code",
   "execution_count": 55,
   "metadata": {
    "tags": [
     "scrub"
    ]
   },
   "outputs": [
    {
     "data": {
      "text/plain": [
       "64"
      ]
     },
     "execution_count": 55,
     "metadata": {},
     "output_type": "execute_result"
    }
   ],
   "source": [
    "power(4, 3)"
   ]
  },
  {
   "cell_type": "markdown",
   "metadata": {},
   "source": [
    "$\\blacksquare$"
   ]
  },
  {
   "cell_type": "markdown",
   "metadata": {
    "slideshow": {
     "slide_type": "slide"
    },
    "toc-hr-collapsed": false
   },
   "source": [
    "## `while` Loops\n",
    "\n",
    "Pseudocode:\n",
    "\n",
    "```python\n",
    "# A threshold or criteria is set.\n",
    "    # As long as the threshold or criteria isn't met,\n",
    "    # perform a task.\n",
    "    # Check threshold/criteria.\n",
    "        # If threshold/criteria is met or exceed,\n",
    "            # break loop.\n",
    "        # If not, repeat.\n",
    "    \n",
    "```"
   ]
  },
  {
   "cell_type": "markdown",
   "metadata": {},
   "source": [
    "`while` loops are a different means of performing repetitive tasks/iteration. The function of a `for` loop is to perform tasks over a _finite collection_. The function of a `while` loop is to perform a repetitive task until a _specific threshold or criteria is met_."
   ]
  },
  {
   "cell_type": "markdown",
   "metadata": {},
   "source": [
    "*Example:*"
   ]
  },
  {
   "cell_type": "code",
   "execution_count": 56,
   "metadata": {
    "tags": [
     "scrub"
    ]
   },
   "outputs": [
    {
     "name": "stdout",
     "output_type": "stream",
     "text": [
      "0\n",
      "1\n",
      "2\n",
      "3\n",
      "4\n",
      "5\n",
      "6\n",
      "7\n",
      "8\n",
      "9\n"
     ]
    }
   ],
   "source": [
    "x = 0\n",
    "while x < 10:\n",
    "    print(x)\n",
    "    x = x + 1"
   ]
  },
  {
   "cell_type": "markdown",
   "metadata": {},
   "source": [
    "### Caution\n",
    "\n",
    "```python\n",
    "x = 0\n",
    "while x < 10:\n",
    "    print(x)\n",
    "```\n",
    "\n",
    "What would happen if you ran the code above?"
   ]
  },
  {
   "cell_type": "markdown",
   "metadata": {},
   "source": [
    "### Example"
   ]
  },
  {
   "cell_type": "markdown",
   "metadata": {},
   "source": [
    "Suppose you had a goal to save up \\\\$200,000 in time for your eight-year-old to start college at age 18. You assume an 8\\% annualized return on investment and write the following code to check whether \\\\$10,000 per year will be enough."
   ]
  },
  {
   "cell_type": "code",
   "execution_count": 1,
   "metadata": {
    "tags": [
     "scrub"
    ]
   },
   "outputs": [
    {
     "data": {
      "text/plain": [
       "144865.6246590984"
      ]
     },
     "execution_count": 1,
     "metadata": {},
     "output_type": "execute_result"
    }
   ],
   "source": [
    "years_to_go = 10\n",
    "yearly_contribution = 10_000\n",
    "annualized_return = 1.08\n",
    "amount_saved = 0\n",
    "\n",
    "for year in range(years_to_go):\n",
    "    amount_saved *= annualized_return\n",
    "    amount_saved += yearly_contribution\n",
    "\n",
    "amount_saved"
   ]
  },
  {
   "cell_type": "markdown",
   "metadata": {},
   "source": [
    "Hmm, it looks like that's not quite enough. But how much do we need to raise it by?"
   ]
  },
  {
   "cell_type": "markdown",
   "metadata": {},
   "source": [
    "We could keep guessing contribution amounts until we hit our target, but it would be nice if the computer would do that computation for us."
   ]
  },
  {
   "cell_type": "markdown",
   "metadata": {},
   "source": [
    "**Solution:** Keep raising the contribution amount by one dollar and recalculating the result `while amount_saved < 200_000`."
   ]
  },
  {
   "cell_type": "code",
   "execution_count": 58,
   "metadata": {
    "tags": [
     "scrub"
    ]
   },
   "outputs": [
    {
     "name": "stdout",
     "output_type": "stream",
     "text": [
      "200001.48140435125 13806\n"
     ]
    }
   ],
   "source": [
    "years_to_go = 10\n",
    "yearly_contribution = 10_000\n",
    "annualized_return = 1.08\n",
    "amount_saved = 0\n",
    "\n",
    "while amount_saved < 200_000:\n",
    "    yearly_contribution += 1\n",
    "    amount_saved = 0\n",
    "    for year in range(years_to_go):\n",
    "        amount_saved *= annualized_return\n",
    "        amount_saved += yearly_contribution\n",
    "\n",
    "print(amount_saved, yearly_contribution)"
   ]
  },
  {
   "cell_type": "markdown",
   "metadata": {
    "slideshow": {
     "slide_type": "slide"
    },
    "toc-hr-collapsed": true,
    "toc-nb-collapsed": true
   },
   "source": [
    "## try..except"
   ]
  },
  {
   "cell_type": "markdown",
   "metadata": {},
   "source": [
    "Pseudocode:\n",
    "\n",
    "```python\n",
    "# Try to do something\n",
    "# If you get a specific failure, do something else.\n",
    "```"
   ]
  },
  {
   "cell_type": "code",
   "execution_count": 59,
   "metadata": {
    "slideshow": {
     "slide_type": "slide"
    }
   },
   "outputs": [],
   "source": [
    "corrupted_nums = [\n",
    "    \"!1\",\n",
    "    \"23.1\",\n",
    "    \"23.4.5\",\n",
    "    \"??12\",\n",
    "    \".12\",\n",
    "    \"12-12\",\n",
    "    \"-11.1\",\n",
    "    \"0-1\",\n",
    "    \"*12.1\",\n",
    "    \"1000\",\n",
    "]"
   ]
  },
  {
   "cell_type": "markdown",
   "metadata": {},
   "source": [
    "*Make a list of just the uncorrupted items in `corrupted`.*"
   ]
  },
  {
   "cell_type": "code",
   "execution_count": 60,
   "metadata": {
    "slideshow": {
     "slide_type": "slide"
    },
    "tags": [
     "scrub"
    ]
   },
   "outputs": [
    {
     "data": {
      "text/plain": [
       "[23.1, 0.12, -11.1, 1000.0]"
      ]
     },
     "execution_count": 60,
     "metadata": {},
     "output_type": "execute_result"
    }
   ],
   "source": [
    "cleaned_nums = []\n",
    "for item in corrupted_nums:\n",
    "    try:\n",
    "        cleaned_nums.append(float(item))\n",
    "    except ValueError:\n",
    "        pass\n",
    "\n",
    "cleaned_nums"
   ]
  },
  {
   "cell_type": "code",
   "execution_count": 61,
   "metadata": {},
   "outputs": [],
   "source": [
    "# Sample list of numbers\n",
    "nums = [12, 84, None, 17, 63, None, 143]"
   ]
  },
  {
   "cell_type": "markdown",
   "metadata": {},
   "source": [
    "*Calculate the average of `num`, skipping `None`s.*"
   ]
  },
  {
   "cell_type": "code",
   "execution_count": 62,
   "metadata": {
    "tags": [
     "scrub"
    ]
   },
   "outputs": [
    {
     "data": {
      "text/plain": [
       "63.8"
      ]
     },
     "execution_count": 62,
     "metadata": {},
     "output_type": "execute_result"
    }
   ],
   "source": [
    "total = 0\n",
    "count = 0\n",
    "for num in nums:\n",
    "    try:\n",
    "        total += num\n",
    "        count += 1\n",
    "    except TypeError:\n",
    "        pass\n",
    "\n",
    "total / count"
   ]
  },
  {
   "cell_type": "markdown",
   "metadata": {},
   "source": [
    "$\\blacksquare$"
   ]
  },
  {
   "cell_type": "markdown",
   "metadata": {},
   "source": [
    "## Summary"
   ]
  },
  {
   "cell_type": "markdown",
   "metadata": {},
   "source": [
    "- You can use `if`, `elif`, and `else` to construct code that carries out different steps depending on circumstances.\n",
    "- `for` loops allow you to execute some code for every item in a collection.\n",
    "- Functions allow you package up some code with specific inputs and outputs.\n",
    "- `while` loops allow you to execute some code as long as a condition is met.\n",
    "- `try`/`except` blocks allows you to specify how to handle errors."
   ]
  }
 ],
 "metadata": {
  "kernelspec": {
   "display_name": "Python 3",
   "language": "python",
   "name": "python3"
  },
  "language_info": {
   "codemirror_mode": {
    "name": "ipython",
    "version": 3
   },
   "file_extension": ".py",
   "mimetype": "text/x-python",
   "name": "python",
   "nbconvert_exporter": "python",
   "pygments_lexer": "ipython3",
   "version": "3.8.3"
  }
 },
 "nbformat": 4,
 "nbformat_minor": 4
}
