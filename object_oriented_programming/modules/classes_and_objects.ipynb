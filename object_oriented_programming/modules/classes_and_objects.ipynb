{
 "cells": [
  {
   "cell_type": "markdown",
   "metadata": {},
   "source": [
    "<img src=\"http://imgur.com/1ZcRyrc.png\" style=\"float: left; margin: 20px; height: 55px\">\n",
    "\n",
    "# Classes and Objects"
   ]
  },
  {
   "cell_type": "code",
   "execution_count": 1,
   "metadata": {},
   "outputs": [],
   "source": [
    "# reload external dependencies when they change\n",
    "%load_ext autoreload\n",
    "%autoreload 2\n",
    "\n",
    "%matplotlib inline"
   ]
  },
  {
   "cell_type": "code",
   "execution_count": 2,
   "metadata": {},
   "outputs": [],
   "source": [
    "import matplotlib.pyplot as plt"
   ]
  },
  {
   "cell_type": "markdown",
   "metadata": {},
   "source": [
    "Choosing a health plan is hard. Let's write some code to help us!"
   ]
  },
  {
   "cell_type": "markdown",
   "metadata": {},
   "source": [
    "Let's make a couple simplifying assumptions:\n",
    "\n",
    "- We only care about total health care cost over the whole year (ignoring for instance the fact that expenses will tend to be more evenly distributed for plans with higher premiums and lower coinsurance).\n",
    "- Total cost is simply premiums + expenses up to a deductible + coinsurance rate * expenses exceeding a deductible up to an out-of-pocked max (ignoring many factors such as HSA/FSA availability, prescription drug costs, emergency room costs, embedded vs. non-embedded deductibles, etc.)."
   ]
  },
  {
   "cell_type": "markdown",
   "metadata": {},
   "source": [
    "**Disclaimer:** This code comes with absolutely no warranty and does not constitute advice of any kind."
   ]
  },
  {
   "cell_type": "markdown",
   "metadata": {},
   "source": [
    "I'd like to calculate my total health care cost as a function of the expenses I incur for each plan in the set available to me and then plot the results so that I can see how the plans compare at different expense levels."
   ]
  },
  {
   "cell_type": "markdown",
   "metadata": {},
   "source": [
    "I could write a function that takes all of the plan information (premiums, deductible, coinsurance rate, etc.) and an expense level and calculates costs for that plan at that expense level. However, this approach is a little clunky. A typical employer will have just a few plans, but for each plan I will want to calculate costs for maybe a few hundred expense levels, so I will end up passing the same plan information values into the function over and over again."
   ]
  },
  {
   "cell_type": "markdown",
   "metadata": {},
   "source": [
    "A more natural approach is to model each health plan as an `object` with a set of *attributes* (premiums, deductible, coinsurance rate, etc.), and to provide a *method* that takes in an expense level and refers to those attributes to calculate total costs."
   ]
  },
  {
   "cell_type": "markdown",
   "metadata": {},
   "source": [
    "First I need to define a `class`, which acts as a blueprint for `HealthPlan` objects. The first step is to create an `__init__` method that specifies the inputs that are needed to characterize an instance of the class."
   ]
  },
  {
   "cell_type": "markdown",
   "metadata": {
    "tags": [
     "scrub"
    ]
   },
   "source": [
    "from health_plan import HealthPlan"
   ]
  },
  {
   "cell_type": "code",
   "execution_count": 4,
   "metadata": {},
   "outputs": [
    {
     "ename": "ModuleNotFoundError",
     "evalue": "No module named 'health_plan'",
     "output_type": "error",
     "traceback": [
      "\u001b[0;31m---------------------------------------------------------------------------\u001b[0m",
      "\u001b[0;31mModuleNotFoundError\u001b[0m                       Traceback (most recent call last)",
      "\u001b[0;32m<ipython-input-4-3ac624bb6c98>\u001b[0m in \u001b[0;36m<module>\u001b[0;34m\u001b[0m\n\u001b[0;32m----> 1\u001b[0;31m \u001b[0;32mfrom\u001b[0m \u001b[0mhealth_plan\u001b[0m \u001b[0;32mimport\u001b[0m \u001b[0mHealthPlan\u001b[0m\u001b[0;34m\u001b[0m\u001b[0;34m\u001b[0m\u001b[0m\n\u001b[0m",
      "\u001b[0;31mModuleNotFoundError\u001b[0m: No module named 'health_plan'"
     ]
    }
   ],
   "source": [
    "from health_plan import HealthPlan"
   ]
  },
  {
   "cell_type": "markdown",
   "metadata": {},
   "source": [
    "<img src=../assets/images/class_init.png width=800>"
   ]
  },
  {
   "cell_type": "markdown",
   "metadata": {},
   "source": [
    "Pythonistas generally use `UpperCamelCase` for class names, as opposed to the `snake_case` that they use for function and variable names."
   ]
  },
  {
   "cell_type": "markdown",
   "metadata": {},
   "source": [
    "We can *instantiate* this class (i.e., create an object that belongs to the class) by writing its name with parentheses as if calling a function. Python will then run the class's `__init__` method with the parameters that we pass in."
   ]
  },
  {
   "cell_type": "markdown",
   "metadata": {},
   "source": [
    "*Instantiate the `HealthPlan` class*"
   ]
  },
  {
   "cell_type": "code",
   "execution_count": 2,
   "metadata": {
    "tags": [
     "scrub"
    ]
   },
   "outputs": [
    {
     "ename": "SyntaxError",
     "evalue": "unexpected EOF while parsing (<ipython-input-2-efaf3a34749b>, line 1)",
     "output_type": "error",
     "traceback": [
      "\u001b[0;36m  File \u001b[0;32m\"<ipython-input-2-efaf3a34749b>\"\u001b[0;36m, line \u001b[0;32m1\u001b[0m\n\u001b[0;31m    class HealthPlan:\u001b[0m\n\u001b[0m                     ^\u001b[0m\n\u001b[0;31mSyntaxError\u001b[0m\u001b[0;31m:\u001b[0m unexpected EOF while parsing\n"
     ]
    }
   ],
   "source": [
    "class HealthPlan:"
   ]
  },
  {
   "cell_type": "markdown",
   "metadata": {},
   "source": [
    "Because of the lines like `self.name = name` in the `__init__` method, we can retrieve the plan information that we passed in."
   ]
  },
  {
   "cell_type": "markdown",
   "metadata": {},
   "source": [
    "*Access our `HealthPlan` object's `name` attribute*"
   ]
  },
  {
   "cell_type": "code",
   "execution_count": null,
   "metadata": {
    "tags": [
     "scrub"
    ]
   },
   "outputs": [],
   "source": []
  },
  {
   "cell_type": "markdown",
   "metadata": {},
   "source": [
    "*Access our `HealthPlan` object's `deductible` attribute*"
   ]
  },
  {
   "cell_type": "code",
   "execution_count": null,
   "metadata": {
    "tags": [
     "scrub"
    ]
   },
   "outputs": [],
   "source": []
  },
  {
   "cell_type": "markdown",
   "metadata": {},
   "source": [
    "*Access our `HealthPlan` object's `coinsurance_rate` attribute*"
   ]
  },
  {
   "cell_type": "code",
   "execution_count": null,
   "metadata": {
    "tags": [
     "scrub"
    ]
   },
   "outputs": [],
   "source": []
  },
  {
   "cell_type": "markdown",
   "metadata": {
    "tags": [
     "scrub"
    ]
   },
   "source": []
  },
  {
   "cell_type": "markdown",
   "metadata": {},
   "source": [
    "<img src=../assets/images/method.png width=800>"
   ]
  },
  {
   "cell_type": "markdown",
   "metadata": {},
   "source": [
    "Because we changed the class definition, we need to re-initialize our plan."
   ]
  },
  {
   "cell_type": "markdown",
   "metadata": {},
   "source": [
    "*Instantiate our revised `HealthPlan` class*"
   ]
  },
  {
   "cell_type": "code",
   "execution_count": null,
   "metadata": {
    "tags": [
     "scrub"
    ]
   },
   "outputs": [],
   "source": []
  },
  {
   "cell_type": "markdown",
   "metadata": {},
   "source": [
    "*Run `calculate_costs` on our new `HealthPlan` object*"
   ]
  },
  {
   "cell_type": "code",
   "execution_count": null,
   "metadata": {
    "tags": [
     "scrub"
    ]
   },
   "outputs": [],
   "source": []
  },
  {
   "cell_type": "markdown",
   "metadata": {},
   "source": [
    "Is that number right? It's a little hard to tell because our function is doing multiple things -- calculating total premiums for the year, calculating deductible paid, and calculating amount paid over the deductible. If we delegated each of those subcalculations to another method, then we could test those \"helper methods\" and gain confidence that our implementation is correct."
   ]
  },
  {
   "cell_type": "markdown",
   "metadata": {
    "tags": [
     "scrub"
    ]
   },
   "source": []
  },
  {
   "cell_type": "markdown",
   "metadata": {},
   "source": [
    "Now the benefits of using a class really start to shine. Delegating parts of the total cost calculation to helper functions makes it easier to understand what we are doing and to test its correctness. We could do the same thing with individual functions outside of a class, but then we would need to pass the relevant plan information to each function -- for instance, calculate_coinsurance paid would need not only `expenses` but also `deductible`, `coinsurance_rate`, and `out_of_pocket_max` as inputs -- resulting in much more complicated code."
   ]
  },
  {
   "cell_type": "markdown",
   "metadata": {},
   "source": [
    "Let's now do some spot checks of our implementation."
   ]
  },
  {
   "cell_type": "markdown",
   "metadata": {},
   "source": [
    "*Instantiate our revised `HealthPlan` class*"
   ]
  },
  {
   "cell_type": "code",
   "execution_count": null,
   "metadata": {
    "tags": [
     "scrub"
    ]
   },
   "outputs": [],
   "source": []
  },
  {
   "cell_type": "markdown",
   "metadata": {},
   "source": [
    "Monthly premiums should be 12 * 120 = 1,440"
   ]
  },
  {
   "cell_type": "markdown",
   "metadata": {},
   "source": [
    "*Check our `calculate_total_premium` method*"
   ]
  },
  {
   "cell_type": "code",
   "execution_count": null,
   "metadata": {
    "tags": [
     "scrub"
    ]
   },
   "outputs": [],
   "source": []
  },
  {
   "cell_type": "markdown",
   "metadata": {},
   "source": [
    "The deductible paid should be the lesser of expenses and $500."
   ]
  },
  {
   "cell_type": "markdown",
   "metadata": {},
   "source": [
    "*Check our `calculate_deductible_paid` method with expenses of $500*"
   ]
  },
  {
   "cell_type": "code",
   "execution_count": null,
   "metadata": {
    "tags": [
     "scrub"
    ]
   },
   "outputs": [],
   "source": []
  },
  {
   "cell_type": "markdown",
   "metadata": {},
   "source": [
    "*Check our `calculate_deductible_paid` method with expenses over $500*"
   ]
  },
  {
   "cell_type": "code",
   "execution_count": null,
   "metadata": {
    "tags": [
     "scrub"
    ]
   },
   "outputs": [],
   "source": []
  },
  {
   "cell_type": "markdown",
   "metadata": {},
   "source": [
    "*Check our `calculate_deductible_paid` method with expenses below $500*"
   ]
  },
  {
   "cell_type": "code",
   "execution_count": null,
   "metadata": {
    "tags": [
     "scrub"
    ]
   },
   "outputs": [],
   "source": []
  },
  {
   "cell_type": "markdown",
   "metadata": {},
   "source": [
    "Coinsurance paid should be the lesser of the difference between the out of pocket max and the deductible and 10% of the difference between expenses and the deductible."
   ]
  },
  {
   "cell_type": "markdown",
   "metadata": {},
   "source": [
    "*Check our `calculate_coinsurance_paid` method with expenses high enough to high `out_of_pocket_max``*"
   ]
  },
  {
   "cell_type": "code",
   "execution_count": null,
   "metadata": {
    "tags": [
     "scrub"
    ]
   },
   "outputs": [],
   "source": []
  },
  {
   "cell_type": "markdown",
   "metadata": {},
   "source": [
    "Check our `calculate_coinsurance_paid` method with expenses within deductible"
   ]
  },
  {
   "cell_type": "code",
   "execution_count": null,
   "metadata": {
    "tags": [
     "scrub"
    ]
   },
   "outputs": [],
   "source": []
  },
  {
   "cell_type": "markdown",
   "metadata": {},
   "source": [
    "*Check our `calculate_coinsurance_paid` method with intermediate expenses*"
   ]
  },
  {
   "cell_type": "code",
   "execution_count": null,
   "metadata": {
    "tags": [
     "scrub"
    ]
   },
   "outputs": [],
   "source": []
  },
  {
   "cell_type": "markdown",
   "metadata": {},
   "source": [
    "Total costs should be the sum of premiums, deductible paid, and coinsurance paid."
   ]
  },
  {
   "cell_type": "markdown",
   "metadata": {},
   "source": [
    "*Check our `calculate_costs` method with intermediate expenses*"
   ]
  },
  {
   "cell_type": "code",
   "execution_count": null,
   "metadata": {
    "tags": [
     "scrub"
    ]
   },
   "outputs": [],
   "source": []
  },
  {
   "cell_type": "markdown",
   "metadata": {},
   "source": [
    "Now that we have some assurance that our code is correct, we can do our plan comparison."
   ]
  },
  {
   "cell_type": "markdown",
   "metadata": {},
   "source": [
    "*Create a second instance of our `HealthPlan` class*"
   ]
  },
  {
   "cell_type": "code",
   "execution_count": null,
   "metadata": {
    "tags": [
     "scrub"
    ]
   },
   "outputs": [],
   "source": []
  },
  {
   "cell_type": "markdown",
   "metadata": {},
   "source": [
    "*Calculate costs for each plan for expenses between $0 and $15,000 in $100 increments*"
   ]
  },
  {
   "cell_type": "code",
   "execution_count": null,
   "metadata": {
    "tags": [
     "scrub"
    ]
   },
   "outputs": [],
   "source": []
  },
  {
   "cell_type": "markdown",
   "metadata": {},
   "source": [
    "*Plot costs vs. expenses for the two plans*"
   ]
  },
  {
   "cell_type": "code",
   "execution_count": null,
   "metadata": {
    "tags": [
     "scrub"
    ]
   },
   "outputs": [],
   "source": []
  },
  {
   "cell_type": "markdown",
   "metadata": {},
   "source": [
    "**Conclusions:**\n",
    "\n",
    "- The low-deductible plan has lower total costs for the from premiums, deductible payments, and coinsurance payments than the high-deductible plan if expenses are between about \\\\$2,000 and \\\\$10,000.\n",
    "- With less than \\\\$2,000 in expenses, the high-deductible plan can be quite a bit cheaper.\n",
    "- Above \\\\$10,000, the high-deductible plan is slightly cheaper."
   ]
  },
  {
   "cell_type": "markdown",
   "metadata": {},
   "source": [
    "## Summary"
   ]
  },
  {
   "cell_type": "markdown",
   "metadata": {},
   "source": [
    "- Python allows you to define *classes* that act like templates for custom object types.\n",
    "- Those objects can store data as *attributes* and behavior as *methods*.\n",
    "- The special method `__init__` runs when you create an instance of a class.\n",
    "- The first argument to a method of an object is the object itself. Inside the class definition, we call that object `self` and use it to access the class's attributes and methods.\n",
    "- Turning functions that need access to the same data into methods of a class allows you to attach that data to instances of the class rather than passing it around from function to function.\n",
    "- Delegating subtasks within a function to \"helper functions\" yields code that is easier to understand and test."
   ]
  },
  {
   "cell_type": "markdown",
   "metadata": {},
   "source": [
    "**Exercise**\n",
    "\n",
    "*Time:* 10 mins.\\\n",
    "*Format:* Pairs\\\n",
    "*Post answers:* Yes"
   ]
  },
  {
   "cell_type": "markdown",
   "metadata": {},
   "source": [
    "- Use PyCharm to define a class `Band` with the following features:\n",
    "    - Attributes:\n",
    "        - `name`\n",
    "        - `genre`\n",
    "        - `albums`\n",
    "    - Methods:\n",
    "        - `add_album` -- add an album by name\n",
    "        - `remove_album` -- remove an album by name\n",
    "        - `count_albums` -- report how many albums are attributed to the band"
   ]
  },
  {
   "cell_type": "markdown",
   "metadata": {
    "tags": [
     "scrub"
    ]
   },
   "source": []
  },
  {
   "cell_type": "code",
   "execution_count": null,
   "metadata": {
    "tags": [
     "scrub"
    ]
   },
   "outputs": [],
   "source": []
  },
  {
   "cell_type": "code",
   "execution_count": null,
   "metadata": {},
   "outputs": [],
   "source": [
    "# Run this cell to test your code after importing your class\n",
    "coltrane_quartet = Band(\n",
    "    name=\"The John Coltrane Classic Quartet\",\n",
    "    genre=\"jazz\",\n",
    "    albums=[\n",
    "        \"Ballads\",\n",
    "        \"Coltrane\",\n",
    "        \"Live at Birdland\",\n",
    "        \"Crescent\",\n",
    "        \"A Love Supreme\",\n",
    "        \"The John Coltrane Quartet Plays\",\n",
    "        \"Living Space\",\n",
    "        \"Transition\",\n",
    "        \"Sun Ship\",\n",
    "        \"First Meditations\",\n",
    "        \"Kulu Se Mama\",\n",
    "    ],\n",
    ")\n",
    "\n",
    "assert coltrane_quartet.name == \"The John Coltrane Classic Quartet\"\n",
    "assert coltrane_quartet.genre == \"jazz\"\n",
    "assert coltrane_quartet.count_albums() == 11\n",
    "\n",
    "coltrane_quartet.add_album(\"Afro Blue Impressions\")\n",
    "assert coltrane_quartet.count_albums() == 12\n",
    "assert \"Afro Blue Impressions\" in coltrane_quartet.albums\n",
    "\n",
    "coltrane_quartet.remove_album(\"Afro Blue Impressions\")\n",
    "assert coltrane_quartet.count_albums() == 11\n",
    "assert \"Afro Blue Impressions\" not in coltrane_quartet.albums"
   ]
  },
  {
   "cell_type": "markdown",
   "metadata": {},
   "source": [
    "- Make an instance of `Band` that represents a band of your choice. Your list of albums does not need to be comprehensive. Check that all of its attributes have the values you expect and that all of its methods have the effects that you expect, either with `assert` statements as above or just through printing."
   ]
  },
  {
   "cell_type": "code",
   "execution_count": null,
   "metadata": {
    "tags": [
     "scrub"
    ]
   },
   "outputs": [],
   "source": []
  },
  {
   "cell_type": "markdown",
   "metadata": {},
   "source": [
    "- In PyCharm, define a class `BankAccount` with the following features:\n",
    "    - Attributes:\n",
    "        - `owner_name`\n",
    "        - `balance`\n",
    "        - `fees_owed`\n",
    "    - Methods:\n",
    "        - `deposit` -- add a specified amount to the balance.\n",
    "        - `withdraw` -- subtract a specified amount from the balance. If the balance goes negative, add \\\\$20 to `fees_owed`.\n",
    "        - `pay_fees` -- subtract a specified amount from `fees_owed`.\n",
    "        \n",
    "**BONUS:**\n",
    "\n",
    "- Think about what should happen if `pay_fees` exceeds `fees_owed`, and implement that behavior.\n",
    "- Handle additional \"edge cases,\" such as negative deposit amounts."
   ]
  },
  {
   "cell_type": "markdown",
   "metadata": {
    "tags": [
     "scrub"
    ]
   },
   "source": []
  },
  {
   "cell_type": "markdown",
   "metadata": {},
   "source": [
    "- Write your own tests for the `BankAccount` class analogous to the `Band` tests given above.  **BONUS:** Include tests for edges cases such as negative numbers"
   ]
  },
  {
   "cell_type": "code",
   "execution_count": null,
   "metadata": {
    "tags": [
     "scrub"
    ]
   },
   "outputs": [],
   "source": []
  },
  {
   "cell_type": "code",
   "execution_count": null,
   "metadata": {
    "tags": [
     "scrub"
    ]
   },
   "outputs": [],
   "source": []
  }
 ],
 "metadata": {
  "kernelspec": {
   "display_name": "Python 3",
   "language": "python",
   "name": "python3"
  },
  "language_info": {
   "codemirror_mode": {
    "name": "ipython",
    "version": 3
   },
   "file_extension": ".py",
   "mimetype": "text/x-python",
   "name": "python",
   "nbconvert_exporter": "python",
   "pygments_lexer": "ipython3",
   "version": "3.8.3"
  }
 },
 "nbformat": 4,
 "nbformat_minor": 4
}
