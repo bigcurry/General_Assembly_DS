{
 "cells": [
  {
   "cell_type": "markdown",
   "metadata": {},
   "source": [
    "<img src=\"http://imgur.com/1ZcRyrc.png\" style=\"float: left; margin: 20px; height: 55px\">\n",
    "\n",
    "# Classes and Objects"
   ]
  },
  {
   "cell_type": "code",
   "execution_count": 1,
   "metadata": {},
   "outputs": [],
   "source": [
    "# reload external dependencies when they change\n",
    "%load_ext autoreload\n",
    "%autoreload 2\n",
    "\n",
    "%matplotlib inline"
   ]
  },
  {
   "cell_type": "code",
   "execution_count": 2,
   "metadata": {},
   "outputs": [],
   "source": [
    "import matplotlib.pyplot as plt"
   ]
  },
  {
   "cell_type": "markdown",
   "metadata": {},
   "source": [
    "Choosing a health plan is hard. Let's write some code to help us!"
   ]
  },
  {
   "cell_type": "markdown",
   "metadata": {},
   "source": [
    "Let's make a couple simplifying assumptions:\n",
    "\n",
    "- We only care about total health care cost over the whole year (ignoring for instance the fact that expenses will tend to be more evenly distributed for plans with higher premiums and lower coinsurance).\n",
    "- Total cost is simply premiums + expenses up to a deductible + coinsurance rate * expenses exceeding a deductible up to an out-of-pocked max (ignoring many factors such as HSA/FSA availability, prescription drug costs, emergency room costs, embedded vs. non-embedded deductibles, etc.)."
   ]
  },
  {
   "cell_type": "markdown",
   "metadata": {},
   "source": [
    "**Disclaimer:** This code comes with absolutely no warranty and does not constitute advice of any kind."
   ]
  },
  {
   "cell_type": "markdown",
   "metadata": {},
   "source": [
    "I'd like to calculate my total health care cost as a function of the expenses I incur for each plan in the set available to me and then plot the results so that I can see how the plans compare at different expense levels."
   ]
  },
  {
   "cell_type": "markdown",
   "metadata": {},
   "source": [
    "I could write a function that takes all of the plan information (premiums, deductible, coinsurance rate, etc.) and an expense level and calculates costs for that plan at that expense level. However, this approach is a little clunky. A typical employer will have just a few plans, but for each plan I will want to calculate costs for maybe a few hundred expense levels, so I will end up passing the same plan information values into the function over and over again."
   ]
  },
  {
   "cell_type": "markdown",
   "metadata": {},
   "source": [
    "A more natural approach is to model each health plan as an `object` with a set of *attributes* (premiums, deductible, coinsurance rate, etc.), and to provide a *method* that takes in an expense level and refers to those attributes to calculate total costs."
   ]
  },
  {
   "cell_type": "markdown",
   "metadata": {},
   "source": [
    "First I need to define a `class`, which acts as a blueprint for `HealthPlan` objects. The first step is to create an `__init__` method that specifies the inputs that are needed to characterize an instance of the class."
   ]
  },
  {
   "cell_type": "markdown",
   "metadata": {
    "tags": [
     "scrub"
    ]
   },
   "source": [
    "We could create this class directly in this notebook, but for practice with PyCharm let's do it there and import it here.\n",
    "\n",
    "\n",
    "```python\n",
    "class HealthPlan:\n",
    "    def __init__(\n",
    "        self, name, deductible, coinsurance_rate, out_of_pocket_max, monthly_premium\n",
    "    ):\n",
    "        self.name = name\n",
    "        self.deductible = deductible\n",
    "        self.coinsurance_rate = coinsurance_rate\n",
    "        self.out_of_pocket_max = out_of_pocket_max\n",
    "        self.monthly_premium = monthly_premium\n",
    "```"
   ]
  },
  {
   "cell_type": "code",
   "execution_count": 3,
   "metadata": {},
   "outputs": [],
   "source": [
    "from health_plan import HealthPlan"
   ]
  },
  {
   "cell_type": "markdown",
   "metadata": {},
   "source": [
    "<img src=../assets/images/class_init.png width=800>"
   ]
  },
  {
   "cell_type": "markdown",
   "metadata": {},
   "source": [
    "Pythonistas generally use `UpperCamelCase` for class names, as opposed to the `snake_case` that they use for function and variable names."
   ]
  },
  {
   "cell_type": "markdown",
   "metadata": {},
   "source": [
    "We can *instantiate* this class (i.e., create an object that belongs to the class) by writing its name with parentheses as if calling a function. Python will then run the class's `__init__` method with the parameters that we pass in."
   ]
  },
  {
   "cell_type": "markdown",
   "metadata": {},
   "source": [
    "*Instantiate the `HealthPlan` class*"
   ]
  },
  {
   "cell_type": "code",
   "execution_count": 4,
   "metadata": {
    "tags": [
     "scrub"
    ]
   },
   "outputs": [],
   "source": [
    "low_deductible_plan = HealthPlan(\n",
    "    name=\"low_deductible_plan\",\n",
    "    deductible=500,\n",
    "    coinsurance_rate=0.1,\n",
    "    out_of_pocket_max=1500,\n",
    "    monthly_premium=116.32,\n",
    ")"
   ]
  },
  {
   "cell_type": "markdown",
   "metadata": {},
   "source": [
    "Because of the lines like `self.name = name` in the `__init__` method, we can retrieve the plan information that we passed in."
   ]
  },
  {
   "cell_type": "markdown",
   "metadata": {},
   "source": [
    "*Access our `HealthPlan` object's `name` attribute*"
   ]
  },
  {
   "cell_type": "code",
   "execution_count": 5,
   "metadata": {
    "tags": [
     "scrub"
    ]
   },
   "outputs": [
    {
     "data": {
      "text/plain": [
       "'low_deductible_plan'"
      ]
     },
     "execution_count": 5,
     "metadata": {},
     "output_type": "execute_result"
    }
   ],
   "source": [
    "low_deductible_plan.name"
   ]
  },
  {
   "cell_type": "markdown",
   "metadata": {},
   "source": [
    "*Access our `HealthPlan` object's `deductible` attribute*"
   ]
  },
  {
   "cell_type": "code",
   "execution_count": 6,
   "metadata": {
    "tags": [
     "scrub"
    ]
   },
   "outputs": [
    {
     "data": {
      "text/plain": [
       "500"
      ]
     },
     "execution_count": 6,
     "metadata": {},
     "output_type": "execute_result"
    }
   ],
   "source": [
    "low_deductible_plan.deductible"
   ]
  },
  {
   "cell_type": "markdown",
   "metadata": {},
   "source": [
    "*Access our `HealthPlan` object's `coinsurance_rate` attribute*"
   ]
  },
  {
   "cell_type": "code",
   "execution_count": 7,
   "metadata": {
    "tags": [
     "scrub"
    ]
   },
   "outputs": [
    {
     "data": {
      "text/plain": [
       "0.1"
      ]
     },
     "execution_count": 7,
     "metadata": {},
     "output_type": "execute_result"
    }
   ],
   "source": [
    "low_deductible_plan.coinsurance_rate"
   ]
  },
  {
   "cell_type": "markdown",
   "metadata": {
    "tags": [
     "scrub"
    ]
   },
   "source": [
    "Now let's define a method to calculate costs.\n",
    "\n",
    "\n",
    "```python\n",
    "class HealthPlan:\n",
    "    def __init__(\n",
    "        self, name, deductible, coinsurance_rate, out_of_pocket_max, monthly_premium\n",
    "    ):\n",
    "        self.name = name\n",
    "        self.deductible = deductible\n",
    "        self.coinsurance_rate = coinsurance_rate\n",
    "        self.out_of_pocket_max = out_of_pocket_max\n",
    "        self.monthly_premium = monthly_premium\n",
    "\n",
    "    def calculate_costs(self, expenses):\n",
    "        result = self.monthly_premium * 12\n",
    "        result += min(self.deductible, expenses)\n",
    "        if expenses > self.deductible:\n",
    "            result += min(\n",
    "                (expenses - self.deductible) * self.coinsurance_rate,\n",
    "                self.out_of_pocket_max,\n",
    "            )\n",
    "        return result\n",
    "```"
   ]
  },
  {
   "cell_type": "markdown",
   "metadata": {},
   "source": [
    "<img src=../assets/images/method.png width=800>"
   ]
  },
  {
   "cell_type": "markdown",
   "metadata": {},
   "source": [
    "Because we changed the class definition, we need to re-initialize our plan."
   ]
  },
  {
   "cell_type": "markdown",
   "metadata": {},
   "source": [
    "*Instantiate our revised `HealthPlan` class*"
   ]
  },
  {
   "cell_type": "code",
   "execution_count": 8,
   "metadata": {
    "tags": [
     "scrub"
    ]
   },
   "outputs": [],
   "source": [
    "low_deductible_plan = HealthPlan(\n",
    "    name=\"low_deductible_plan\",\n",
    "    deductible=500,\n",
    "    coinsurance_rate=0.1,\n",
    "    out_of_pocket_max=1500,\n",
    "    monthly_premium=116.32,\n",
    ")"
   ]
  },
  {
   "cell_type": "markdown",
   "metadata": {},
   "source": [
    "*Run `calculate_costs` on our new `HealthPlan` object*"
   ]
  },
  {
   "cell_type": "code",
   "execution_count": 9,
   "metadata": {
    "tags": [
     "scrub"
    ]
   },
   "outputs": [
    {
     "data": {
      "text/plain": [
       "2845.84"
      ]
     },
     "execution_count": 9,
     "metadata": {},
     "output_type": "execute_result"
    }
   ],
   "source": [
    "low_deductible_plan.calculate_costs(10_000)"
   ]
  },
  {
   "cell_type": "markdown",
   "metadata": {},
   "source": [
    "Is that number right? It's a little hard to tell because our function is doing multiple things -- calculating total premiums for the year, calculating deductible paid, and calculating amount paid over the deductible. If we delegated each of those subcalculations to another method, then we could test those \"helper methods\" and gain confidence that our implementation is correct."
   ]
  },
  {
   "cell_type": "markdown",
   "metadata": {
    "tags": [
     "scrub"
    ]
   },
   "source": [
    "\n",
    "```python\n",
    "class HealthPlan:\n",
    "    def __init__(\n",
    "        self, name, deductible, coinsurance_rate, out_of_pocket_max, monthly_premium\n",
    "    ):\n",
    "        self.name = name\n",
    "        self.deductible = deductible\n",
    "        self.coinsurance_rate = coinsurance_rate\n",
    "        self.out_of_pocket_max = out_of_pocket_max\n",
    "        self.monthly_premium = monthly_premium\n",
    "\n",
    "    def calculate_costs(self, expenses):\n",
    "        return (\n",
    "            self.calculate_total_premium()\n",
    "            + self.calculate_deductible_paid(expenses)\n",
    "            + self.calculate_coinsurance_paid(expenses)\n",
    "        )\n",
    "\n",
    "    def calculate_total_premium(self):\n",
    "        return self.monthly_premium * 12\n",
    "\n",
    "    def calculate_deductible_paid(self, expenses):\n",
    "        return min(self.deductible, expenses)\n",
    "\n",
    "    def calculate_coinsurance_paid(self, expenses):\n",
    "        if expenses < self.deductible:\n",
    "            return 0\n",
    "        else:\n",
    "            return min(\n",
    "                (expenses - self.deductible) * self.coinsurance_rate,\n",
    "                self.out_of_pocket_max - self.deductible,\n",
    "            )\n",
    "```"
   ]
  },
  {
   "cell_type": "markdown",
   "metadata": {},
   "source": [
    "Now the benefits of using a class really start to shine. Delegating parts of the total cost calculation to helper functions makes it easier to understand what we are doing and to test its correctness. We could do the same thing with individual functions outside of a class, but then we would need to pass the relevant plan information to each function -- for instance, calculate_coinsurance paid would need not only `expenses` but also `deductible`, `coinsurance_rate`, and `out_of_pocket_max` as inputs -- resulting in much more complicated code."
   ]
  },
  {
   "cell_type": "markdown",
   "metadata": {},
   "source": [
    "Let's now do some spot checks of our implementation."
   ]
  },
  {
   "cell_type": "markdown",
   "metadata": {},
   "source": [
    "*Instantiate our revised `HealthPlan` class*"
   ]
  },
  {
   "cell_type": "code",
   "execution_count": 10,
   "metadata": {
    "tags": [
     "scrub"
    ]
   },
   "outputs": [],
   "source": [
    "low_deductible_plan = HealthPlan(\n",
    "    name=\"low_deductible_plan\",\n",
    "    deductible=500,\n",
    "    coinsurance_rate=0.1,\n",
    "    out_of_pocket_max=1500,\n",
    "    monthly_premium=120,\n",
    ")"
   ]
  },
  {
   "cell_type": "markdown",
   "metadata": {},
   "source": [
    "Monthly premiums should be 12 * 120 = 1,440"
   ]
  },
  {
   "cell_type": "markdown",
   "metadata": {},
   "source": [
    "*Check our `calculate_total_premium` method*"
   ]
  },
  {
   "cell_type": "code",
   "execution_count": 11,
   "metadata": {
    "tags": [
     "scrub"
    ]
   },
   "outputs": [],
   "source": [
    "assert round(low_deductible_plan.calculate_total_premium(), 2) == 1_440"
   ]
  },
  {
   "cell_type": "markdown",
   "metadata": {},
   "source": [
    "The deductible paid should be the lesser of expenses and $500."
   ]
  },
  {
   "cell_type": "markdown",
   "metadata": {},
   "source": [
    "*Check our `calculate_deductible_paid` method with expenses of $500*"
   ]
  },
  {
   "cell_type": "code",
   "execution_count": 12,
   "metadata": {
    "tags": [
     "scrub"
    ]
   },
   "outputs": [],
   "source": [
    "assert round(low_deductible_plan.calculate_deductible_paid(500), 2) == 500"
   ]
  },
  {
   "cell_type": "markdown",
   "metadata": {},
   "source": [
    "*Check our `calculate_deductible_paid` method with expenses over $500*"
   ]
  },
  {
   "cell_type": "code",
   "execution_count": 13,
   "metadata": {
    "tags": [
     "scrub"
    ]
   },
   "outputs": [],
   "source": [
    "assert round(low_deductible_plan.calculate_deductible_paid(1_000), 2) == 500"
   ]
  },
  {
   "cell_type": "markdown",
   "metadata": {},
   "source": [
    "*Check our `calculate_deductible_paid` method with expenses below $500*"
   ]
  },
  {
   "cell_type": "code",
   "execution_count": 14,
   "metadata": {
    "tags": [
     "scrub"
    ]
   },
   "outputs": [],
   "source": [
    "assert round(low_deductible_plan.calculate_deductible_paid(200), 2) == 200"
   ]
  },
  {
   "cell_type": "markdown",
   "metadata": {},
   "source": [
    "Coinsurance paid should be the lesser of the difference between the out of pocket max and the deductible and 10% of the difference between expenses and the deductible."
   ]
  },
  {
   "cell_type": "markdown",
   "metadata": {},
   "source": [
    "*Check our `calculate_coinsurance_paid` method with expenses high enough to high `out_of_pocket_max``*"
   ]
  },
  {
   "cell_type": "code",
   "execution_count": 15,
   "metadata": {
    "tags": [
     "scrub"
    ]
   },
   "outputs": [],
   "source": [
    "assert (\n",
    "    round(low_deductible_plan.calculate_coinsurance_paid(1_000_000), 2)\n",
    "    == low_deductible_plan.out_of_pocket_max - low_deductible_plan.deductible\n",
    ")"
   ]
  },
  {
   "cell_type": "markdown",
   "metadata": {},
   "source": [
    "Check our `calculate_coinsurance_paid` method with expenses within deductible"
   ]
  },
  {
   "cell_type": "code",
   "execution_count": 16,
   "metadata": {
    "tags": [
     "scrub"
    ]
   },
   "outputs": [],
   "source": [
    "assert round(low_deductible_plan.calculate_coinsurance_paid(500), 2) == 0"
   ]
  },
  {
   "cell_type": "markdown",
   "metadata": {},
   "source": [
    "*Check our `calculate_coinsurance_paid` method with intermediate expenses*"
   ]
  },
  {
   "cell_type": "code",
   "execution_count": 17,
   "metadata": {
    "tags": [
     "scrub"
    ]
   },
   "outputs": [],
   "source": [
    "assert round(low_deductible_plan.calculate_coinsurance_paid(1000), 2) == 50"
   ]
  },
  {
   "cell_type": "markdown",
   "metadata": {},
   "source": [
    "Total costs should be the sum of premiums, deductible paid, and coinsurance paid."
   ]
  },
  {
   "cell_type": "markdown",
   "metadata": {},
   "source": [
    "*Check our `calculate_costs` method with intermediate expenses*"
   ]
  },
  {
   "cell_type": "code",
   "execution_count": 18,
   "metadata": {
    "tags": [
     "scrub"
    ]
   },
   "outputs": [],
   "source": [
    "assert round(low_deductible_plan.calculate_costs(1000), 2) == 1_440 + 500 + 50"
   ]
  },
  {
   "cell_type": "markdown",
   "metadata": {},
   "source": [
    "Now that we have some assurance that our code is correct, we can do our plan comparison."
   ]
  },
  {
   "cell_type": "markdown",
   "metadata": {},
   "source": [
    "*Create a second instance of our `HealthPlan` class*"
   ]
  },
  {
   "cell_type": "code",
   "execution_count": 19,
   "metadata": {
    "tags": [
     "scrub"
    ]
   },
   "outputs": [],
   "source": [
    "high_deductible_plan = HealthPlan(\n",
    "    name=\"high_deductible_plan\",\n",
    "    deductible=2700,\n",
    "    coinsurance_rate=0,\n",
    "    out_of_pocket_max=2700,\n",
    "    monthly_premium=10,\n",
    ")"
   ]
  },
  {
   "cell_type": "markdown",
   "metadata": {},
   "source": [
    "*Calculate costs for each plan for expenses between $0 and $15,000 in $100 increments*"
   ]
  },
  {
   "cell_type": "code",
   "execution_count": 20,
   "metadata": {
    "tags": [
     "scrub"
    ]
   },
   "outputs": [],
   "source": [
    "expense_levels = range(0, 15_000, 100)\n",
    "low_deductible_costs = [\n",
    "    low_deductible_plan.calculate_costs(expenses) for expenses in expense_levels\n",
    "]\n",
    "high_deductible_costs = [\n",
    "    high_deductible_plan.calculate_costs(expenses) for expenses in expense_levels\n",
    "]"
   ]
  },
  {
   "cell_type": "markdown",
   "metadata": {},
   "source": [
    "*Plot costs vs. expenses for the two plans*"
   ]
  },
  {
   "cell_type": "code",
   "execution_count": 21,
   "metadata": {
    "tags": [
     "scrub"
    ]
   },
   "outputs": [
    {
     "data": {
      "text/plain": [
       "<matplotlib.legend.Legend at 0x112554790>"
      ]
     },
     "execution_count": 21,
     "metadata": {},
     "output_type": "execute_result"
    },
    {
     "data": {
      "image/png": "[encoded data removed]",
      "text/plain": [
       "<Figure size 432x288 with 1 Axes>"
      ]
     },
     "metadata": {
      "needs_background": "light"
     },
     "output_type": "display_data"
    }
   ],
   "source": [
    "fig, ax = plt.subplots()\n",
    "ax.plot(expense_levels, low_deductible_costs, label=\"low-deductible plan\")\n",
    "ax.plot(expense_levels, high_deductible_costs, label=\"high-deductible plan\")\n",
    "ax.legend()"
   ]
  },
  {
   "cell_type": "markdown",
   "metadata": {},
   "source": [
    "**Conclusions:**\n",
    "\n",
    "- The low-deductible plan has lower total costs for the from premiums, deductible payments, and coinsurance payments than the high-deductible plan if expenses are between about \\\\$2,000 and \\\\$10,000.\n",
    "- With less than \\\\$2,000 in expenses, the high-deductible plan can be quite a bit cheaper.\n",
    "- Above \\\\$10,000, the high-deductible plan is slightly cheaper."
   ]
  },
  {
   "cell_type": "markdown",
   "metadata": {},
   "source": [
    "## Summary"
   ]
  },
  {
   "cell_type": "markdown",
   "metadata": {},
   "source": [
    "- Python allows you to define *classes* that act like templates for custom object types.\n",
    "- Those objects can store data as *attributes* and behavior as *methods*.\n",
    "- The special method `__init__` runs when you create an instance of a class.\n",
    "- The first argument to a method of an object is the object itself. Inside the class definition, we call that object `self` and use it to access the class's attributes and methods.\n",
    "- Turning functions that need access to the same data into methods of a class allows you to attach that data to instances of the class rather than passing it around from function to function.\n",
    "- Delegating subtasks within a function to \"helper functions\" yields code that is easier to understand and test."
   ]
  },
  {
   "cell_type": "markdown",
   "metadata": {},
   "source": [
    "**Exercise**\n",
    "\n",
    "*Time:* 10 mins.\\\n",
    "*Format:* Pairs\\\n",
    "*Post answers:* Yes"
   ]
  },
  {
   "cell_type": "markdown",
   "metadata": {},
   "source": [
    "- Use PyCharm to define a class `Band` with the following features:\n",
    "    - Attributes:\n",
    "        - `name`\n",
    "        - `genre`\n",
    "        - `albums`\n",
    "    - Methods:\n",
    "        - `add_album` -- add an album by name\n",
    "        - `remove_album` -- remove an album by name\n",
    "        - `count_albums` -- report how many albums are attributed to the band"
   ]
  },
  {
   "cell_type": "markdown",
   "metadata": {
    "tags": [
     "scrub"
    ]
   },
   "source": [
    "```python\n",
    "class Band:\n",
    "    def __init__(self, name, genre, albums):\n",
    "        self.name = name\n",
    "        self.genre = genre\n",
    "        self.albums = albums\n",
    "\n",
    "    def add_album(self, album_name):\n",
    "        self.albums.append(album_name)\n",
    "\n",
    "    def remove_album(self, album_name):\n",
    "        self.albums.remove(album_name)\n",
    "\n",
    "    def count_albums(self):\n",
    "        return len(self.albums)\n",
    "```"
   ]
  },
  {
   "cell_type": "code",
   "execution_count": 22,
   "metadata": {
    "tags": [
     "scrub"
    ]
   },
   "outputs": [],
   "source": [
    "from band import Band"
   ]
  },
  {
   "cell_type": "code",
   "execution_count": 23,
   "metadata": {},
   "outputs": [],
   "source": [
    "# Run this cell to test your code after importing your class\n",
    "coltrane_quartet = Band(\n",
    "    name=\"The John Coltrane Classic Quartet\",\n",
    "    genre=\"jazz\",\n",
    "    albums=[\n",
    "        \"Ballads\",\n",
    "        \"Coltrane\",\n",
    "        \"Live at Birdland\",\n",
    "        \"Crescent\",\n",
    "        \"A Love Supreme\",\n",
    "        \"The John Coltrane Quartet Plays\",\n",
    "        \"Living Space\",\n",
    "        \"Transition\",\n",
    "        \"Sun Ship\",\n",
    "        \"First Meditations\",\n",
    "        \"Kulu Se Mama\",\n",
    "    ],\n",
    ")\n",
    "\n",
    "assert coltrane_quartet.name == \"The John Coltrane Classic Quartet\"\n",
    "assert coltrane_quartet.genre == \"jazz\"\n",
    "assert coltrane_quartet.count_albums() == 11\n",
    "\n",
    "coltrane_quartet.add_album(\"Afro Blue Impressions\")\n",
    "assert coltrane_quartet.count_albums() == 12\n",
    "assert \"Afro Blue Impressions\" in coltrane_quartet.albums\n",
    "\n",
    "coltrane_quartet.remove_album(\"Afro Blue Impressions\")\n",
    "assert coltrane_quartet.count_albums() == 11\n",
    "assert \"Afro Blue Impressions\" not in coltrane_quartet.albums"
   ]
  },
  {
   "cell_type": "markdown",
   "metadata": {},
   "source": [
    "- Make an instance of `Band` that represents a band of your choice. Your list of albums does not need to be comprehensive. Check that all of its attributes have the values you expect and that all of its methods have the effects that you expect, either with `assert` statements as above or just through printing."
   ]
  },
  {
   "cell_type": "code",
   "execution_count": 24,
   "metadata": {
    "tags": [
     "scrub"
    ]
   },
   "outputs": [],
   "source": [
    "# See above for an example"
   ]
  },
  {
   "cell_type": "markdown",
   "metadata": {},
   "source": [
    "- In PyCharm, define a class `BankAccount` with the following features:\n",
    "    - Attributes:\n",
    "        - `owner_name`\n",
    "        - `balance`\n",
    "        - `fees_owed`\n",
    "    - Methods:\n",
    "        - `deposit` -- add a specified amount to the balance.\n",
    "        - `withdraw` -- subtract a specified amount from the balance. If the balance goes negative, add \\\\$20 to `fees_owed`.\n",
    "        - `pay_fees` -- subtract a specified amount from `fees_owed`.\n",
    "        \n",
    "**BONUS:**\n",
    "\n",
    "- Think about what should happen if `pay_fees` exceeds `fees_owed`, and implement that behavior.\n",
    "- Handle additional \"edge cases,\" such as negative deposit amounts."
   ]
  },
  {
   "cell_type": "markdown",
   "metadata": {
    "tags": [
     "scrub"
    ]
   },
   "source": [
    "\n",
    "```python\n",
    "class BankAccount:\n",
    "    def __init__(self, owner_name, balance, fees_owed):\n",
    "        self.owner_name = owner_name\n",
    "        self.balance = balance\n",
    "        self.fees_owed = fees_owed\n",
    "\n",
    "    def deposit(self, amount):\n",
    "        if amount <= 0:\n",
    "            raise ValueError(\"Deposit amount must be positive\")\n",
    "        else:\n",
    "            self.balance += amount\n",
    "\n",
    "    def withdraw(self, amount):\n",
    "        if amount <= 0:\n",
    "            raise ValueError(\"Withdrawal amount must be positive\")\n",
    "        else:\n",
    "            self.balance -= amount\n",
    "        if self.balance < 0:\n",
    "            self.fees_owed += 20\n",
    "\n",
    "    def pay_fees(self, amount):\n",
    "        if amount <= 0:\n",
    "            raise ValueError(\"Withdrawal amount must be positive\")\n",
    "        elif amount > self.fees_owed:\n",
    "            raise ValueError(\n",
    "                f\"Fee payment cannot exceed `fees_owed` amount of {self.fees_owed}\"\n",
    "            )\n",
    "        else:\n",
    "            self.fees_owed -= amount\n",
    "```"
   ]
  },
  {
   "cell_type": "markdown",
   "metadata": {},
   "source": [
    "- Write your own tests for the `BankAccount` class analogous to the `Band` tests given above.  **BONUS:** Include tests for edges cases such as negative numbers"
   ]
  },
  {
   "cell_type": "code",
   "execution_count": 25,
   "metadata": {
    "tags": [
     "scrub"
    ]
   },
   "outputs": [],
   "source": [
    "from bank_account import BankAccount"
   ]
  },
  {
   "cell_type": "code",
   "execution_count": 26,
   "metadata": {
    "tags": [
     "scrub"
    ]
   },
   "outputs": [],
   "source": [
    "import pytest\n",
    "\n",
    "\n",
    "# Run this cell to test your code\n",
    "sample_account = BankAccount(owner_name=\"Finley Smith\", balance=2000, fees_owed=0)\n",
    "\n",
    "with pytest.raises(ValueError):\n",
    "    sample_account.deposit(-10)\n",
    "\n",
    "with pytest.raises(ValueError):\n",
    "    sample_account.withdraw(-10)\n",
    "\n",
    "with pytest.raises(ValueError):\n",
    "    sample_account.pay_fees(-10)\n",
    "\n",
    "assert sample_account.owner_name == \"Finley Smith\"\n",
    "assert sample_account.balance == 2_000\n",
    "assert sample_account.fees_owed == 0\n",
    "\n",
    "sample_account.deposit(500)\n",
    "assert sample_account.balance == 2_500\n",
    "\n",
    "sample_account.withdraw(1_000)\n",
    "assert sample_account.balance == 1_500\n",
    "\n",
    "sample_account.withdraw(2_000)\n",
    "assert sample_account.balance == -500\n",
    "\n",
    "assert sample_account.fees_owed == 20\n",
    "\n",
    "sample_account.pay_fees(10)\n",
    "assert sample_account.fees_owed == 10\n",
    "\n",
    "sample_account.pay_fees(10)\n",
    "assert sample_account.fees_owed == 0\n",
    "\n",
    "with pytest.raises(ValueError):\n",
    "    sample_account.pay_fees(10)"
   ]
  }
 ],
 "metadata": {
  "kernelspec": {
   "display_name": "ga",
   "language": "python",
   "name": "ga"
  },
  "language_info": {
   "codemirror_mode": {
    "name": "ipython",
    "version": 3
   },
   "file_extension": ".py",
   "mimetype": "text/x-python",
   "name": "python",
   "nbconvert_exporter": "python",
   "pygments_lexer": "ipython3",
   "version": "3.7.7"
  }
 },
 "nbformat": 4,
 "nbformat_minor": 4
}
