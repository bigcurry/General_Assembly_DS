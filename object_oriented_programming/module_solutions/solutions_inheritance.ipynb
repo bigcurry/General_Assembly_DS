{
 "cells": [
  {
   "cell_type": "markdown",
   "metadata": {},
   "source": [
    "<img src=\"http://imgur.com/1ZcRyrc.png\" style=\"float: left; margin: 20px; height: 55px\">\n",
    "\n",
    "# Inheritance"
   ]
  },
  {
   "cell_type": "code",
   "execution_count": 1,
   "metadata": {},
   "outputs": [],
   "source": [
    "# reload external dependencies when they change\n",
    "%load_ext autoreload\n",
    "%autoreload 2\n",
    "\n",
    "%matplotlib inline"
   ]
  },
  {
   "cell_type": "markdown",
   "metadata": {},
   "source": [
    "Suppose we define a `BankAccount` class as in the exercise in the [Classes and Objects](../modules/classes_and_objects.ipunb) module. Then we remember that the bank offers checking accounts and savings accounts that slightly have different rules. For instance, a customer can only make six withdrawals in one calendar month from a savings account. Let's suppose also that the fee for an overdraft is \\\\$10 for a savings account and \\\\$30 for a checking account."
   ]
  },
  {
   "cell_type": "markdown",
   "metadata": {},
   "source": [
    "One option for dealing with this situation would be to make two entirely separate `CheckingAccount` and `SavingsAccount` classes. However, on that approach we would have repeated code in the two classes. Writing that same code twice would not be hard, but accumulating repeated code will eventually kill a codebase by making it nearly impossible to reason about and to modify."
   ]
  },
  {
   "cell_type": "markdown",
   "metadata": {},
   "source": [
    "Thankfully, we have another option. We can make a `BankAccount` **parent class** that represents the elements that are common to checking accounts and savings accounts, and then create `CheckingAccount` and `SavingsAccount` **child classes** that **inherit from** `BankAccount`."
   ]
  },
  {
   "cell_type": "markdown",
   "metadata": {
    "tags": [
     "scrub"
    ]
   },
   "source": [
    "```python\n",
    "class BankAccount:\n",
    "    def __init__(self, owner_name, balance, fees_owed, overdraft_fee):\n",
    "        self.owner_name = owner_name\n",
    "        self.balance = balance\n",
    "        self.fees_owed = fees_owed\n",
    "        self.overdraft_fee = overdraft_fee\n",
    "\n",
    "    def deposit(self, amount):\n",
    "        if amount <= 0:\n",
    "            raise ValueError(\"Deposit amount must be positive\")\n",
    "        else:\n",
    "            self.balance += amount\n",
    "\n",
    "    def withdraw(self, amount):\n",
    "        if amount <= 0:\n",
    "            raise ValueError(\"Withdrawal amount must be positive\")\n",
    "        else:\n",
    "            self.balance -= amount\n",
    "        if self.balance < 0:\n",
    "            self.fees_owed += self.overdraft_fee\n",
    "\n",
    "    def pay_fees(self, amount):\n",
    "        if amount <= 0:\n",
    "            raise ValueError(\"Withdrawal amount must be positive\")\n",
    "        elif amount > self.fees_owed:\n",
    "            raise ValueError(\n",
    "                f\"Fee payment cannot exceed `fees_owed` amount of {self.fees_owed}\"\n",
    "            )\n",
    "        else:\n",
    "            self.fees_owed -= amount\n",
    "```"
   ]
  },
  {
   "cell_type": "markdown",
   "metadata": {},
   "source": [
    "We will define the `CheckingAccount` class to inherit from the `BankAccount` class, meaning that it gets all of `BankAccount`'s methods and attributes except where we overwrite them."
   ]
  },
  {
   "cell_type": "markdown",
   "metadata": {
    "tags": [
     "scrub"
    ]
   },
   "source": [
    "```python\n",
    "class CheckingAccount(BankAccount):\n",
    "    def __init__(self, owner_name, balance, fees_owed):\n",
    "        super().__init__(owner_name, balance, fees_owed, overdraft_fee=30)\n",
    "```"
   ]
  },
  {
   "cell_type": "markdown",
   "metadata": {},
   "source": [
    "**Note:** `super()` refers to the class that we are inheriting from. For instance, here we want to initialize `CheckingAccount`s in the same way as `BankAccount`s but with a specific overdraft fee, so inside `CheckingAccount.__init__` we call `super().__init__` (meaning `BankAccount.__init__`), passing along the `owner_name`, `balance`, `fees_owed` values that we received as well as the hard-coded value of 30 for `overdraft_fee`."
   ]
  },
  {
   "cell_type": "markdown",
   "metadata": {},
   "source": [
    "*Import our classes*"
   ]
  },
  {
   "cell_type": "code",
   "execution_count": 2,
   "metadata": {
    "tags": [
     "scrub"
    ]
   },
   "outputs": [],
   "source": [
    "from bank_account_with_inheritance import BankAccount, CheckingAccount"
   ]
  },
  {
   "cell_type": "code",
   "execution_count": 3,
   "metadata": {},
   "outputs": [],
   "source": [
    "# Run this cell to test our code\n",
    "import pytest\n",
    "\n",
    "\n",
    "checking_account = CheckingAccount(owner_name=\"Finley Smith\", balance=2000, fees_owed=0)\n",
    "\n",
    "with pytest.raises(ValueError):\n",
    "    checking_account.deposit(-10)\n",
    "\n",
    "with pytest.raises(ValueError):\n",
    "    checking_account.withdraw(-10)\n",
    "\n",
    "with pytest.raises(ValueError):\n",
    "    checking_account.pay_fees(-10)\n",
    "\n",
    "assert checking_account.owner_name == \"Finley Smith\"\n",
    "assert checking_account.balance == 2_000\n",
    "assert checking_account.fees_owed == 0\n",
    "\n",
    "checking_account.deposit(500)\n",
    "assert checking_account.balance == 2_500\n",
    "\n",
    "checking_account.withdraw(1_000)\n",
    "assert checking_account.balance == 1_500\n",
    "\n",
    "checking_account.withdraw(2_000)\n",
    "assert checking_account.balance == -500\n",
    "\n",
    "assert checking_account.fees_owed == 30\n",
    "\n",
    "checking_account.pay_fees(15)\n",
    "assert checking_account.fees_owed == 15\n",
    "\n",
    "checking_account.pay_fees(15)\n",
    "assert checking_account.fees_owed == 0\n",
    "\n",
    "with pytest.raises(ValueError):\n",
    "    checking_account.pay_fees(10)"
   ]
  },
  {
   "cell_type": "markdown",
   "metadata": {},
   "source": [
    "*Add the `SavingsAccount` class*"
   ]
  },
  {
   "cell_type": "markdown",
   "metadata": {
    "tags": [
     "scrub"
    ]
   },
   "source": [
    "```python\n",
    "from datetime import datetime\n",
    "\n",
    "\n",
    "class NotPermittedError(Exception):\n",
    "    pass\n",
    "\n",
    "\n",
    "class SavingsAccount(BankAccount):\n",
    "    def __init__(self, owner_name, balance, fees_owed):\n",
    "        super().__init__(owner_name, balance, fees_owed, overdraft_fee=10)\n",
    "        self._last_withdrawal_month = datetime.today().month\n",
    "        self._withdrawals_in_last_withdrawal_month = 0\n",
    "\n",
    "    def withdraw(self, amount):\n",
    "        if self._last_withdrawal_month == datetime.today().month:\n",
    "            self._withdrawals_in_last_withdrawal_month += 1\n",
    "            if self._withdrawals_in_last_withdrawal_month >= 6:\n",
    "                raise NotPermittedError(\n",
    "                    \"Customer has used all allowed transactions for the month\"\n",
    "                )\n",
    "        else:\n",
    "            self._last_withdrawal_month = datetime.today().month\n",
    "            self._withdrawals_in_last_withdrawal_month = 1\n",
    "\n",
    "        super().withdraw(amount)\n",
    "```"
   ]
  },
  {
   "cell_type": "markdown",
   "metadata": {},
   "source": [
    "**Notes:**\n",
    "\n",
    "- Using an underscore at the start of an attribute name in Python understood to be a signal that the attribute is intended to be used only inside the class definition. We can do the same thing with methods and with functions and classes that are intended to be used only within a module.\n",
    "- We can define a custom error type by creating a class that inherits from `Exception`."
   ]
  },
  {
   "cell_type": "markdown",
   "metadata": {},
   "source": [
    "**Exercise**\n",
    "\n",
    "*Time:* 5 mins.\\\n",
    "*Format:* Pairs\\\n",
    "*Post answers:* Yes"
   ]
  },
  {
   "cell_type": "markdown",
   "metadata": {},
   "source": [
    "- Write tests for `SavingsAccount` like the tests above for `CheckingAccount` but with appropriate changes to account for the differences between the classes."
   ]
  },
  {
   "cell_type": "markdown",
   "metadata": {},
   "source": [
    "*Import our classes*"
   ]
  },
  {
   "cell_type": "code",
   "execution_count": 4,
   "metadata": {
    "tags": [
     "scrub"
    ]
   },
   "outputs": [],
   "source": [
    "from bank_account_with_inheritance import SavingsAccount"
   ]
  },
  {
   "cell_type": "code",
   "execution_count": 5,
   "metadata": {},
   "outputs": [],
   "source": [
    "savings_account = SavingsAccount(owner_name=\"Finley Smith\", balance=2000, fees_owed=0)"
   ]
  },
  {
   "cell_type": "code",
   "execution_count": 6,
   "metadata": {
    "tags": [
     "scrub"
    ]
   },
   "outputs": [],
   "source": [
    "with pytest.raises(ValueError):\n",
    "    savings_account.deposit(-10)\n",
    "\n",
    "with pytest.raises(ValueError):\n",
    "    savings_account.withdraw(-10)\n",
    "\n",
    "with pytest.raises(ValueError):\n",
    "    savings_account.pay_fees(-10)\n",
    "\n",
    "assert savings_account.owner_name == \"Finley Smith\"\n",
    "assert savings_account.balance == 2_000\n",
    "assert savings_account.fees_owed == 0\n",
    "\n",
    "savings_account.deposit(500)\n",
    "assert savings_account.balance == 2_500\n",
    "\n",
    "savings_account.withdraw(1_000)\n",
    "assert savings_account.balance == 1_500\n",
    "\n",
    "savings_account.withdraw(2_000)\n",
    "assert savings_account.balance == -500\n",
    "\n",
    "assert savings_account.fees_owed == 10\n",
    "\n",
    "savings_account.pay_fees(5)\n",
    "assert savings_account.fees_owed == 5\n",
    "\n",
    "savings_account.pay_fees(5)\n",
    "assert savings_account.fees_owed == 0\n",
    "\n",
    "with pytest.raises(ValueError):\n",
    "    savings_account.pay_fees(10)"
   ]
  },
  {
   "cell_type": "markdown",
   "metadata": {},
   "source": [
    "$\\blacksquare$"
   ]
  },
  {
   "cell_type": "markdown",
   "metadata": {},
   "source": [
    "**Note:** Having one method with different implementations for different child classes (such as `withdraw` in this case) is called **polymorphism**."
   ]
  },
  {
   "cell_type": "markdown",
   "metadata": {},
   "source": [
    "## Abstract Parent Classes"
   ]
  },
  {
   "cell_type": "markdown",
   "metadata": {},
   "source": [
    "You can use a parent class to implement default behavior, but **sometimes there is no reasonable default behavior**. For instance, suppose you want to be able to create `Rectangle` and `Triangle` objects and calculate their areas. You could make a `Shape` base class, but what would you put inside it?"
   ]
  },
  {
   "cell_type": "markdown",
   "metadata": {},
   "source": [
    "A good solution to this problem is to go ahead and create a `Shape` parent class, but to raise `NotImplementedError`s for each method that doesn't have a sensible default."
   ]
  },
  {
   "cell_type": "markdown",
   "metadata": {
    "tags": [
     "scrub"
    ]
   },
   "source": [
    "```python\n",
    "class Shape:\n",
    "    def __init__(self):\n",
    "        raise NotImplementedError\n",
    "\n",
    "    def area(self):\n",
    "        raise NotImplementedError\n",
    "\n",
    "\n",
    "class Rectangle(Shape):\n",
    "    def __init__(self, width, height):\n",
    "        self.width = width\n",
    "        self.height = height\n",
    "\n",
    "    def area(self):\n",
    "        return self.width * self.height\n",
    "```"
   ]
  },
  {
   "cell_type": "markdown",
   "metadata": {},
   "source": [
    "`Shape` is not useful by itself: it cannot even be instantiated! However, it still helps us by providing a template for its child classes: we can see that each child class needs to implement `__init__` and `area`, and if it doesn't then we will get appropriate errors."
   ]
  },
  {
   "cell_type": "markdown",
   "metadata": {},
   "source": [
    "**Note:** A class like `Shape` that is not meant to be used directly is called an **abstract class.**"
   ]
  },
  {
   "cell_type": "markdown",
   "metadata": {},
   "source": [
    "**Exercise**\n",
    "\n",
    "*Time:* 3 mins.\\\n",
    "*Format:* Individual\\\n",
    "*Post answers:* Yes"
   ]
  },
  {
   "cell_type": "markdown",
   "metadata": {},
   "source": [
    "- Create a `Triangle` class that inherits from `Shape`. Its constructor (i.e. `__init__`) should take `base` and `height`, and it should have an appropriate `area` method."
   ]
  },
  {
   "cell_type": "markdown",
   "metadata": {
    "tags": [
     "scrub"
    ]
   },
   "source": [
    "\n",
    "```python\n",
    "class Triangle(Shape):\n",
    "    def __init__(self, base, height):\n",
    "        self.base = base\n",
    "        self.height = height\n",
    "\n",
    "    def area(self):\n",
    "        return 1 / 2 * self.base * self.height\n",
    "```"
   ]
  },
  {
   "cell_type": "code",
   "execution_count": 7,
   "metadata": {
    "tags": [
     "scrub"
    ]
   },
   "outputs": [],
   "source": [
    "from shape import Triangle"
   ]
  },
  {
   "cell_type": "code",
   "execution_count": 8,
   "metadata": {},
   "outputs": [],
   "source": [
    "# import your class and run this cell to test it\n",
    "assert Triangle(3, 6).area() == 9"
   ]
  },
  {
   "cell_type": "markdown",
   "metadata": {},
   "source": [
    "$\\blacksquare$"
   ]
  },
  {
   "cell_type": "markdown",
   "metadata": {},
   "source": [
    "## Summary"
   ]
  },
  {
   "cell_type": "markdown",
   "metadata": {},
   "source": [
    "- A class can **inherit** behavior from a parent class.\n",
    "- A parent class can be used to implement default behavior that child classes override as appropriate.\n",
    "- When there is no sensible default, a parent class should raise a `NotImplementedError` that child classes need to override. In an extreme class, an **abstract class** that implements no behavior can still be useful as a template for child classes."
   ]
  }
 ],
 "metadata": {
  "kernelspec": {
   "display_name": "ga",
   "language": "python",
   "name": "ga"
  },
  "language_info": {
   "codemirror_mode": {
    "name": "ipython",
    "version": 3
   },
   "file_extension": ".py",
   "mimetype": "text/x-python",
   "name": "python",
   "nbconvert_exporter": "python",
   "pygments_lexer": "ipython3",
   "version": "3.7.7"
  }
 },
 "nbformat": 4,
 "nbformat_minor": 4
}
